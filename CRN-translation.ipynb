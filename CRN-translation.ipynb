{
 "cells": [
  {
   "cell_type": "code",
   "execution_count": 31,
   "id": "ee9de565-c301-4148-bdd5-403649c5fb1e",
   "metadata": {
    "tags": []
   },
   "outputs": [],
   "source": [
    "# Importing libraries \n",
    "import tensorflow as tf\n",
    "from tensorflow.keras.layers import Dense, Input\n",
    "from tensorflow.keras.initializers import RandomNormal\n",
    "from tensorflow.keras.models import Model\n",
    "import keras\n",
    "import numpy as np\n",
    "import matplotlib.pyplot as plt\n",
    "import seaborn as sns\n",
    "import os\n",
    "from fractions import Fraction\n",
    "from tqdm import tqdm"
   ]
  },
  {
   "cell_type": "markdown",
   "id": "b7688892-894e-48d2-968c-666abacc6556",
   "metadata": {},
   "source": [
    "## Creation and Training of the NN"
   ]
  },
  {
   "cell_type": "code",
   "execution_count": 32,
   "id": "8aa80f49-5af6-462b-a581-7bdea57e0382",
   "metadata": {
    "tags": []
   },
   "outputs": [],
   "source": [
    "# Loading the MNIST dataset and splitting into training and test sets\n",
    "(x_train, y_train), (x_test, y_test) = tf.keras.datasets.mnist.load_data() "
   ]
  },
  {
   "cell_type": "code",
   "execution_count": 33,
   "id": "f09aec8f-d0c0-4bf0-b0f6-dc03fdfc5e8f",
   "metadata": {
    "tags": []
   },
   "outputs": [
    {
     "name": "stdout",
     "output_type": "stream",
     "text": [
      "(60000, 28, 28)\n"
     ]
    }
   ],
   "source": [
    "#x_train, x_test = x_train / 255.0, x_test / 255.0 # Rescaling the data from range [0, 255] to [0, 1] for normalization\n",
    "print(x_train.shape) # Displaying the shape of the training data"
   ]
  },
  {
   "cell_type": "code",
   "execution_count": 34,
   "id": "9f5fa10e-143f-4f73-97c3-c6b1b8a8a077",
   "metadata": {
    "tags": []
   },
   "outputs": [],
   "source": [
    "# Defining a function to transform the labels to a specific format\n",
    "def transform_y(y):\n",
    "    out = [1]*10 # Initialize a list of 1s with length 10 (for each digit class)\n",
    "    out[y] = 255  # Setting the position of the true class to 10 (like in Anderson's article)\n",
    "    return out"
   ]
  },
  {
   "cell_type": "code",
   "execution_count": 35,
   "id": "b319c47f-8d17-4e52-bbee-4590d13565d3",
   "metadata": {
    "tags": []
   },
   "outputs": [],
   "source": [
    "# Setting a random seed for reproducibility\n",
    "tf.random.set_seed(123)"
   ]
  },
  {
   "cell_type": "code",
   "execution_count": 36,
   "id": "25139f78-2708-43bf-9892-2360d1684a12",
   "metadata": {
    "tags": []
   },
   "outputs": [],
   "source": [
    "# Setting the different variables for the model\n",
    "IMAGE_SIZE = 28 * 28\n",
    "HIDDEN_LAYER_SIZE = 40\n",
    "NUM_EPOCH = 50\n",
    "BATCH_SIZE = 300\n",
    "LEARNING_RATE = 0.01 / 255"
   ]
  },
  {
   "cell_type": "code",
   "execution_count": 37,
   "id": "9c6afe7d-6507-43aa-b80e-5599d76e021e",
   "metadata": {
    "tags": []
   },
   "outputs": [],
   "source": [
    "# Defining the input layer for the neural network with the shape of each flattened image\n",
    "input_layer = Input(shape=(IMAGE_SIZE,)) "
   ]
  },
  {
   "cell_type": "code",
   "execution_count": 38,
   "id": "5c52bb4d-325a-4350-9ea0-9da6c7591c3a",
   "metadata": {
    "tags": []
   },
   "outputs": [],
   "source": [
    "# Initializing weights and biases for the layers with normal distribution\n",
    "weight_initializer_1 = RandomNormal(mean=0.0, stddev=1.0/tf.sqrt(float(IMAGE_SIZE)))\n",
    "weight_initializer_2 = RandomNormal(mean=0.0, stddev=1.0/tf.sqrt(float(HIDDEN_LAYER_SIZE)))\n",
    "bias_initializer = RandomNormal(mean=0.0, stddev=1.0)"
   ]
  },
  {
   "cell_type": "code",
   "execution_count": 39,
   "id": "e08c8df6-a0bb-4673-bacd-5b288fcf7998",
   "metadata": {
    "tags": []
   },
   "outputs": [],
   "source": [
    "# Adding a hidden layer with the custom activation and initialized weights and biases\n",
    "hidden_layer = Dense(units=HIDDEN_LAYER_SIZE, activation=tf.nn.relu, kernel_initializer=weight_initializer_1, bias_initializer=bias_initializer)(input_layer)"
   ]
  },
  {
   "cell_type": "code",
   "execution_count": 40,
   "id": "5fef857b-fb32-4f87-943c-8f8d06f6974e",
   "metadata": {
    "tags": []
   },
   "outputs": [],
   "source": [
    "# Adding the output layer with 10 units (one for each digit) and the same activation function\n",
    "output_layer = Dense(units=10, activation=tf.nn.relu, kernel_initializer=weight_initializer_2, bias_initializer=bias_initializer)(hidden_layer)"
   ]
  },
  {
   "cell_type": "code",
   "execution_count": 41,
   "id": "c49dcf56-38bc-42db-a0d4-d284df8c44f5",
   "metadata": {
    "tags": []
   },
   "outputs": [],
   "source": [
    "# Creating the model by specifying inputs and outputs\n",
    "model = Model(inputs=input_layer, outputs=output_layer) "
   ]
  },
  {
   "cell_type": "code",
   "execution_count": 42,
   "id": "f4fc8a25-38a5-4744-80c9-a5679bf3efc3",
   "metadata": {
    "tags": []
   },
   "outputs": [],
   "source": [
    "# Compiling the model with SGD optimizer and mean squared error loss\n",
    "model.compile(optimizer=tf.keras.optimizers.SGD(learning_rate=LEARNING_RATE),\n",
    "              loss='mean_squared_error',\n",
    "              metrics=['accuracy'])"
   ]
  },
  {
   "cell_type": "code",
   "execution_count": 43,
   "id": "84ee23be-3b51-48cb-9dd8-3000a3735a33",
   "metadata": {
    "tags": []
   },
   "outputs": [],
   "source": [
    "# Flattening the image data for model input and transforming labels using transform_y\n",
    "x_train_flattened = x_train.reshape(-1, IMAGE_SIZE) # Flatten training images\n",
    "y_train_transformed = np.array([transform_y(y) for y in y_train]) # Transform labels\n",
    "x_test_flattened = x_test.reshape(-1, IMAGE_SIZE) # Flatten test images\n",
    "y_test_transformed =  np.array([transform_y(y) for y in y_test]) # Transform labels"
   ]
  },
  {
   "cell_type": "code",
   "execution_count": 44,
   "id": "f62fe4d2-8580-4a82-809b-761ef597d5e8",
   "metadata": {
    "tags": []
   },
   "outputs": [],
   "source": [
    "# Finding the index of the second occurrence of the digit '7' in the test set\n",
    "#plot_index = next(i for (i, digit) in enumerate(y_test) if digit == 7) \n",
    "plot_index = [i for (i, digit) in enumerate(y_test) if digit == 7][1]\n",
    "x_plot = x_test_flattened[plot_index] # Selecting the flattened test image of digit '7'"
   ]
  },
  {
   "cell_type": "code",
   "execution_count": 45,
   "id": "6cc271bd-4de4-44da-a9d4-cf67b32e616e",
   "metadata": {
    "tags": []
   },
   "outputs": [],
   "source": [
    "# Defining a callback class to collect model predictions at the start of each epoch\n",
    "class PlotCollectorCallback(keras.callbacks.Callback):\n",
    "    def __init__(self):\n",
    "        super().__init__()\n",
    "        self.predictions = []\n",
    "    def on_epoch_begin(self, epoch, epoch_logs):\n",
    "        prediction = self.model.predict(np.array([x_plot]), batch_size=0)[0]         \n",
    "        # Predicting for the selected '7' image at each epoch and storing the result\n",
    "        self.predictions.append(prediction)"
   ]
  },
  {
   "cell_type": "code",
   "execution_count": 46,
   "id": "5bc5a634-5a14-4ecd-af70-d955c1a912f9",
   "metadata": {
    "tags": []
   },
   "outputs": [],
   "source": [
    "# Instantiating the callback to collect predictions during training\n",
    "plot_collector = PlotCollectorCallback() "
   ]
  },
  {
   "cell_type": "code",
   "execution_count": 47,
   "id": "b7b9a499-a11f-473d-bfcf-2241fd746014",
   "metadata": {
    "tags": []
   },
   "outputs": [
    {
     "name": "stdout",
     "output_type": "stream",
     "text": [
      "\u001b[1m1/1\u001b[0m \u001b[32m━━━━━━━━━━━━━━━━━━━━\u001b[0m\u001b[37m\u001b[0m \u001b[1m0s\u001b[0m 224ms/step\n",
      "Epoch 1/50\n",
      "\u001b[1m200/200\u001b[0m \u001b[32m━━━━━━━━━━━━━━━━━━━━\u001b[0m\u001b[37m\u001b[0m \u001b[1m1s\u001b[0m 2ms/step - accuracy: 0.3481 - loss: 5196.5410\n",
      "\u001b[1m1/1\u001b[0m \u001b[32m━━━━━━━━━━━━━━━━━━━━\u001b[0m\u001b[37m\u001b[0m \u001b[1m0s\u001b[0m 7ms/step\n",
      "Epoch 2/50\n",
      "\u001b[1m200/200\u001b[0m \u001b[32m━━━━━━━━━━━━━━━━━━━━\u001b[0m\u001b[37m\u001b[0m \u001b[1m0s\u001b[0m 1ms/step - accuracy: 0.5452 - loss: 3803.5820\n",
      "\u001b[1m1/1\u001b[0m \u001b[32m━━━━━━━━━━━━━━━━━━━━\u001b[0m\u001b[37m\u001b[0m \u001b[1m0s\u001b[0m 8ms/step\n",
      "Epoch 3/50\n",
      "\u001b[1m200/200\u001b[0m \u001b[32m━━━━━━━━━━━━━━━━━━━━\u001b[0m\u001b[37m\u001b[0m \u001b[1m0s\u001b[0m 1ms/step - accuracy: 0.6308 - loss: 3006.9004\n",
      "\u001b[1m1/1\u001b[0m \u001b[32m━━━━━━━━━━━━━━━━━━━━\u001b[0m\u001b[37m\u001b[0m \u001b[1m0s\u001b[0m 8ms/step\n",
      "Epoch 4/50\n",
      "\u001b[1m200/200\u001b[0m \u001b[32m━━━━━━━━━━━━━━━━━━━━\u001b[0m\u001b[37m\u001b[0m \u001b[1m0s\u001b[0m 1ms/step - accuracy: 0.6537 - loss: 2648.6113\n",
      "\u001b[1m1/1\u001b[0m \u001b[32m━━━━━━━━━━━━━━━━━━━━\u001b[0m\u001b[37m\u001b[0m \u001b[1m0s\u001b[0m 7ms/step\n",
      "Epoch 5/50\n",
      "\u001b[1m200/200\u001b[0m \u001b[32m━━━━━━━━━━━━━━━━━━━━\u001b[0m\u001b[37m\u001b[0m \u001b[1m0s\u001b[0m 1ms/step - accuracy: 0.6575 - loss: 2587.9880\n",
      "\u001b[1m1/1\u001b[0m \u001b[32m━━━━━━━━━━━━━━━━━━━━\u001b[0m\u001b[37m\u001b[0m \u001b[1m0s\u001b[0m 8ms/step\n",
      "Epoch 6/50\n",
      "\u001b[1m200/200\u001b[0m \u001b[32m━━━━━━━━━━━━━━━━━━━━\u001b[0m\u001b[37m\u001b[0m \u001b[1m0s\u001b[0m 1ms/step - accuracy: 0.6603 - loss: 2548.8262\n",
      "\u001b[1m1/1\u001b[0m \u001b[32m━━━━━━━━━━━━━━━━━━━━\u001b[0m\u001b[37m\u001b[0m \u001b[1m0s\u001b[0m 8ms/step\n",
      "Epoch 7/50\n",
      "\u001b[1m200/200\u001b[0m \u001b[32m━━━━━━━━━━━━━━━━━━━━\u001b[0m\u001b[37m\u001b[0m \u001b[1m0s\u001b[0m 1ms/step - accuracy: 0.6615 - loss: 2521.0137\n",
      "\u001b[1m1/1\u001b[0m \u001b[32m━━━━━━━━━━━━━━━━━━━━\u001b[0m\u001b[37m\u001b[0m \u001b[1m0s\u001b[0m 8ms/step\n",
      "Epoch 8/50\n",
      "\u001b[1m200/200\u001b[0m \u001b[32m━━━━━━━━━━━━━━━━━━━━\u001b[0m\u001b[37m\u001b[0m \u001b[1m0s\u001b[0m 1ms/step - accuracy: 0.6627 - loss: 2500.2610\n",
      "\u001b[1m1/1\u001b[0m \u001b[32m━━━━━━━━━━━━━━━━━━━━\u001b[0m\u001b[37m\u001b[0m \u001b[1m0s\u001b[0m 7ms/step\n",
      "Epoch 9/50\n",
      "\u001b[1m200/200\u001b[0m \u001b[32m━━━━━━━━━━━━━━━━━━━━\u001b[0m\u001b[37m\u001b[0m \u001b[1m0s\u001b[0m 1ms/step - accuracy: 0.6635 - loss: 2484.0862\n",
      "\u001b[1m1/1\u001b[0m \u001b[32m━━━━━━━━━━━━━━━━━━━━\u001b[0m\u001b[37m\u001b[0m \u001b[1m0s\u001b[0m 10ms/step\n",
      "Epoch 10/50\n",
      "\u001b[1m200/200\u001b[0m \u001b[32m━━━━━━━━━━━━━━━━━━━━\u001b[0m\u001b[37m\u001b[0m \u001b[1m0s\u001b[0m 1ms/step - accuracy: 0.6647 - loss: 2469.7424\n",
      "\u001b[1m1/1\u001b[0m \u001b[32m━━━━━━━━━━━━━━━━━━━━\u001b[0m\u001b[37m\u001b[0m \u001b[1m0s\u001b[0m 8ms/step\n",
      "Epoch 11/50\n",
      "\u001b[1m200/200\u001b[0m \u001b[32m━━━━━━━━━━━━━━━━━━━━\u001b[0m\u001b[37m\u001b[0m \u001b[1m0s\u001b[0m 1ms/step - accuracy: 0.6653 - loss: 2457.3997\n",
      "\u001b[1m1/1\u001b[0m \u001b[32m━━━━━━━━━━━━━━━━━━━━\u001b[0m\u001b[37m\u001b[0m \u001b[1m0s\u001b[0m 7ms/step\n",
      "Epoch 12/50\n",
      "\u001b[1m200/200\u001b[0m \u001b[32m━━━━━━━━━━━━━━━━━━━━\u001b[0m\u001b[37m\u001b[0m \u001b[1m0s\u001b[0m 1ms/step - accuracy: 0.6660 - loss: 2447.8132\n",
      "\u001b[1m1/1\u001b[0m \u001b[32m━━━━━━━━━━━━━━━━━━━━\u001b[0m\u001b[37m\u001b[0m \u001b[1m0s\u001b[0m 8ms/step\n",
      "Epoch 13/50\n",
      "\u001b[1m200/200\u001b[0m \u001b[32m━━━━━━━━━━━━━━━━━━━━\u001b[0m\u001b[37m\u001b[0m \u001b[1m0s\u001b[0m 1ms/step - accuracy: 0.6667 - loss: 2439.3694\n",
      "\u001b[1m1/1\u001b[0m \u001b[32m━━━━━━━━━━━━━━━━━━━━\u001b[0m\u001b[37m\u001b[0m \u001b[1m0s\u001b[0m 8ms/step\n",
      "Epoch 14/50\n",
      "\u001b[1m200/200\u001b[0m \u001b[32m━━━━━━━━━━━━━━━━━━━━\u001b[0m\u001b[37m\u001b[0m \u001b[1m0s\u001b[0m 1ms/step - accuracy: 0.6675 - loss: 2431.5056\n",
      "\u001b[1m1/1\u001b[0m \u001b[32m━━━━━━━━━━━━━━━━━━━━\u001b[0m\u001b[37m\u001b[0m \u001b[1m0s\u001b[0m 7ms/step\n",
      "Epoch 15/50\n",
      "\u001b[1m200/200\u001b[0m \u001b[32m━━━━━━━━━━━━━━━━━━━━\u001b[0m\u001b[37m\u001b[0m \u001b[1m0s\u001b[0m 1ms/step - accuracy: 0.6680 - loss: 2423.6807\n",
      "\u001b[1m1/1\u001b[0m \u001b[32m━━━━━━━━━━━━━━━━━━━━\u001b[0m\u001b[37m\u001b[0m \u001b[1m0s\u001b[0m 8ms/step\n",
      "Epoch 16/50\n",
      "\u001b[1m200/200\u001b[0m \u001b[32m━━━━━━━━━━━━━━━━━━━━\u001b[0m\u001b[37m\u001b[0m \u001b[1m0s\u001b[0m 1ms/step - accuracy: 0.6682 - loss: 2416.9133\n",
      "\u001b[1m1/1\u001b[0m \u001b[32m━━━━━━━━━━━━━━━━━━━━\u001b[0m\u001b[37m\u001b[0m \u001b[1m0s\u001b[0m 8ms/step\n",
      "Epoch 17/50\n",
      "\u001b[1m200/200\u001b[0m \u001b[32m━━━━━━━━━━━━━━━━━━━━\u001b[0m\u001b[37m\u001b[0m \u001b[1m0s\u001b[0m 1ms/step - accuracy: 0.6690 - loss: 2410.8914\n",
      "\u001b[1m1/1\u001b[0m \u001b[32m━━━━━━━━━━━━━━━━━━━━\u001b[0m\u001b[37m\u001b[0m \u001b[1m0s\u001b[0m 8ms/step\n",
      "Epoch 18/50\n",
      "\u001b[1m200/200\u001b[0m \u001b[32m━━━━━━━━━━━━━━━━━━━━\u001b[0m\u001b[37m\u001b[0m \u001b[1m0s\u001b[0m 2ms/step - accuracy: 0.6692 - loss: 2404.9146\n",
      "\u001b[1m1/1\u001b[0m \u001b[32m━━━━━━━━━━━━━━━━━━━━\u001b[0m\u001b[37m\u001b[0m \u001b[1m0s\u001b[0m 9ms/step\n",
      "Epoch 19/50\n",
      "\u001b[1m200/200\u001b[0m \u001b[32m━━━━━━━━━━━━━━━━━━━━\u001b[0m\u001b[37m\u001b[0m \u001b[1m0s\u001b[0m 1ms/step - accuracy: 0.6697 - loss: 2399.9031\n",
      "\u001b[1m1/1\u001b[0m \u001b[32m━━━━━━━━━━━━━━━━━━━━\u001b[0m\u001b[37m\u001b[0m \u001b[1m0s\u001b[0m 8ms/step\n",
      "Epoch 20/50\n",
      "\u001b[1m200/200\u001b[0m \u001b[32m━━━━━━━━━━━━━━━━━━━━\u001b[0m\u001b[37m\u001b[0m \u001b[1m0s\u001b[0m 2ms/step - accuracy: 0.6702 - loss: 2395.1365\n",
      "\u001b[1m1/1\u001b[0m \u001b[32m━━━━━━━━━━━━━━━━━━━━\u001b[0m\u001b[37m\u001b[0m \u001b[1m0s\u001b[0m 8ms/step\n",
      "Epoch 21/50\n",
      "\u001b[1m200/200\u001b[0m \u001b[32m━━━━━━━━━━━━━━━━━━━━\u001b[0m\u001b[37m\u001b[0m \u001b[1m0s\u001b[0m 1ms/step - accuracy: 0.6703 - loss: 2390.1655\n",
      "\u001b[1m1/1\u001b[0m \u001b[32m━━━━━━━━━━━━━━━━━━━━\u001b[0m\u001b[37m\u001b[0m \u001b[1m0s\u001b[0m 7ms/step\n",
      "Epoch 22/50\n",
      "\u001b[1m200/200\u001b[0m \u001b[32m━━━━━━━━━━━━━━━━━━━━\u001b[0m\u001b[37m\u001b[0m \u001b[1m0s\u001b[0m 1ms/step - accuracy: 0.6705 - loss: 2385.9729\n",
      "\u001b[1m1/1\u001b[0m \u001b[32m━━━━━━━━━━━━━━━━━━━━\u001b[0m\u001b[37m\u001b[0m \u001b[1m0s\u001b[0m 7ms/step\n",
      "Epoch 23/50\n",
      "\u001b[1m200/200\u001b[0m \u001b[32m━━━━━━━━━━━━━━━━━━━━\u001b[0m\u001b[37m\u001b[0m \u001b[1m0s\u001b[0m 1ms/step - accuracy: 0.6707 - loss: 2381.8984\n",
      "\u001b[1m1/1\u001b[0m \u001b[32m━━━━━━━━━━━━━━━━━━━━\u001b[0m\u001b[37m\u001b[0m \u001b[1m0s\u001b[0m 7ms/step\n",
      "Epoch 24/50\n",
      "\u001b[1m200/200\u001b[0m \u001b[32m━━━━━━━━━━━━━━━━━━━━\u001b[0m\u001b[37m\u001b[0m \u001b[1m0s\u001b[0m 1ms/step - accuracy: 0.6711 - loss: 2378.0195\n",
      "\u001b[1m1/1\u001b[0m \u001b[32m━━━━━━━━━━━━━━━━━━━━\u001b[0m\u001b[37m\u001b[0m \u001b[1m0s\u001b[0m 10ms/step\n",
      "Epoch 25/50\n",
      "\u001b[1m200/200\u001b[0m \u001b[32m━━━━━━━━━━━━━━━━━━━━\u001b[0m\u001b[37m\u001b[0m \u001b[1m0s\u001b[0m 1ms/step - accuracy: 0.6713 - loss: 2374.2512\n",
      "\u001b[1m1/1\u001b[0m \u001b[32m━━━━━━━━━━━━━━━━━━━━\u001b[0m\u001b[37m\u001b[0m \u001b[1m0s\u001b[0m 8ms/step\n",
      "Epoch 26/50\n",
      "\u001b[1m200/200\u001b[0m \u001b[32m━━━━━━━━━━━━━━━━━━━━\u001b[0m\u001b[37m\u001b[0m \u001b[1m0s\u001b[0m 1ms/step - accuracy: 0.6713 - loss: 2370.6814\n",
      "\u001b[1m1/1\u001b[0m \u001b[32m━━━━━━━━━━━━━━━━━━━━\u001b[0m\u001b[37m\u001b[0m \u001b[1m0s\u001b[0m 8ms/step\n",
      "Epoch 27/50\n",
      "\u001b[1m200/200\u001b[0m \u001b[32m━━━━━━━━━━━━━━━━━━━━\u001b[0m\u001b[37m\u001b[0m \u001b[1m0s\u001b[0m 1ms/step - accuracy: 0.6715 - loss: 2366.8889\n",
      "\u001b[1m1/1\u001b[0m \u001b[32m━━━━━━━━━━━━━━━━━━━━\u001b[0m\u001b[37m\u001b[0m \u001b[1m0s\u001b[0m 8ms/step\n",
      "Epoch 28/50\n",
      "\u001b[1m200/200\u001b[0m \u001b[32m━━━━━━━━━━━━━━━━━━━━\u001b[0m\u001b[37m\u001b[0m \u001b[1m0s\u001b[0m 1ms/step - accuracy: 0.6718 - loss: 2363.5437\n",
      "\u001b[1m1/1\u001b[0m \u001b[32m━━━━━━━━━━━━━━━━━━━━\u001b[0m\u001b[37m\u001b[0m \u001b[1m0s\u001b[0m 8ms/step\n",
      "Epoch 29/50\n",
      "\u001b[1m200/200\u001b[0m \u001b[32m━━━━━━━━━━━━━━━━━━━━\u001b[0m\u001b[37m\u001b[0m \u001b[1m0s\u001b[0m 1ms/step - accuracy: 0.6718 - loss: 2360.5798\n",
      "\u001b[1m1/1\u001b[0m \u001b[32m━━━━━━━━━━━━━━━━━━━━\u001b[0m\u001b[37m\u001b[0m \u001b[1m0s\u001b[0m 19ms/step\n",
      "Epoch 30/50\n",
      "\u001b[1m200/200\u001b[0m \u001b[32m━━━━━━━━━━━━━━━━━━━━\u001b[0m\u001b[37m\u001b[0m \u001b[1m0s\u001b[0m 1ms/step - accuracy: 0.6721 - loss: 2357.8552\n",
      "\u001b[1m1/1\u001b[0m \u001b[32m━━━━━━━━━━━━━━━━━━━━\u001b[0m\u001b[37m\u001b[0m \u001b[1m0s\u001b[0m 38ms/step\n",
      "Epoch 31/50\n",
      "\u001b[1m200/200\u001b[0m \u001b[32m━━━━━━━━━━━━━━━━━━━━\u001b[0m\u001b[37m\u001b[0m \u001b[1m0s\u001b[0m 1ms/step - accuracy: 0.6724 - loss: 2355.0342\n",
      "\u001b[1m1/1\u001b[0m \u001b[32m━━━━━━━━━━━━━━━━━━━━\u001b[0m\u001b[37m\u001b[0m \u001b[1m0s\u001b[0m 7ms/step\n",
      "Epoch 32/50\n",
      "\u001b[1m200/200\u001b[0m \u001b[32m━━━━━━━━━━━━━━━━━━━━\u001b[0m\u001b[37m\u001b[0m \u001b[1m0s\u001b[0m 1ms/step - accuracy: 0.6724 - loss: 2352.1101\n",
      "\u001b[1m1/1\u001b[0m \u001b[32m━━━━━━━━━━━━━━━━━━━━\u001b[0m\u001b[37m\u001b[0m \u001b[1m0s\u001b[0m 8ms/step\n",
      "Epoch 33/50\n",
      "\u001b[1m200/200\u001b[0m \u001b[32m━━━━━━━━━━━━━━━━━━━━\u001b[0m\u001b[37m\u001b[0m \u001b[1m0s\u001b[0m 1ms/step - accuracy: 0.6726 - loss: 2349.4714\n",
      "\u001b[1m1/1\u001b[0m \u001b[32m━━━━━━━━━━━━━━━━━━━━\u001b[0m\u001b[37m\u001b[0m \u001b[1m0s\u001b[0m 14ms/step\n",
      "Epoch 34/50\n",
      "\u001b[1m200/200\u001b[0m \u001b[32m━━━━━━━━━━━━━━━━━━━━\u001b[0m\u001b[37m\u001b[0m \u001b[1m0s\u001b[0m 1ms/step - accuracy: 0.6726 - loss: 2346.8396\n",
      "\u001b[1m1/1\u001b[0m \u001b[32m━━━━━━━━━━━━━━━━━━━━\u001b[0m\u001b[37m\u001b[0m \u001b[1m0s\u001b[0m 7ms/step\n",
      "Epoch 35/50\n",
      "\u001b[1m200/200\u001b[0m \u001b[32m━━━━━━━━━━━━━━━━━━━━\u001b[0m\u001b[37m\u001b[0m \u001b[1m0s\u001b[0m 1ms/step - accuracy: 0.6727 - loss: 2344.0825\n",
      "\u001b[1m1/1\u001b[0m \u001b[32m━━━━━━━━━━━━━━━━━━━━\u001b[0m\u001b[37m\u001b[0m \u001b[1m0s\u001b[0m 8ms/step\n",
      "Epoch 36/50\n",
      "\u001b[1m200/200\u001b[0m \u001b[32m━━━━━━━━━━━━━━━━━━━━\u001b[0m\u001b[37m\u001b[0m \u001b[1m0s\u001b[0m 1ms/step - accuracy: 0.6729 - loss: 2341.8601\n",
      "\u001b[1m1/1\u001b[0m \u001b[32m━━━━━━━━━━━━━━━━━━━━\u001b[0m\u001b[37m\u001b[0m \u001b[1m0s\u001b[0m 7ms/step\n",
      "Epoch 37/50\n",
      "\u001b[1m200/200\u001b[0m \u001b[32m━━━━━━━━━━━━━━━━━━━━\u001b[0m\u001b[37m\u001b[0m \u001b[1m0s\u001b[0m 1ms/step - accuracy: 0.6733 - loss: 2339.2288\n",
      "\u001b[1m1/1\u001b[0m \u001b[32m━━━━━━━━━━━━━━━━━━━━\u001b[0m\u001b[37m\u001b[0m \u001b[1m0s\u001b[0m 10ms/step\n",
      "Epoch 38/50\n",
      "\u001b[1m200/200\u001b[0m \u001b[32m━━━━━━━━━━━━━━━━━━━━\u001b[0m\u001b[37m\u001b[0m \u001b[1m0s\u001b[0m 1ms/step - accuracy: 0.6732 - loss: 2336.3892\n",
      "\u001b[1m1/1\u001b[0m \u001b[32m━━━━━━━━━━━━━━━━━━━━\u001b[0m\u001b[37m\u001b[0m \u001b[1m0s\u001b[0m 7ms/step\n",
      "Epoch 39/50\n",
      "\u001b[1m200/200\u001b[0m \u001b[32m━━━━━━━━━━━━━━━━━━━━\u001b[0m\u001b[37m\u001b[0m \u001b[1m0s\u001b[0m 1ms/step - accuracy: 0.6734 - loss: 2334.4016\n",
      "\u001b[1m1/1\u001b[0m \u001b[32m━━━━━━━━━━━━━━━━━━━━\u001b[0m\u001b[37m\u001b[0m \u001b[1m0s\u001b[0m 7ms/step\n",
      "Epoch 40/50\n",
      "\u001b[1m200/200\u001b[0m \u001b[32m━━━━━━━━━━━━━━━━━━━━\u001b[0m\u001b[37m\u001b[0m \u001b[1m0s\u001b[0m 1ms/step - accuracy: 0.6735 - loss: 2331.9749\n",
      "\u001b[1m1/1\u001b[0m \u001b[32m━━━━━━━━━━━━━━━━━━━━\u001b[0m\u001b[37m\u001b[0m \u001b[1m0s\u001b[0m 8ms/step\n",
      "Epoch 41/50\n",
      "\u001b[1m200/200\u001b[0m \u001b[32m━━━━━━━━━━━━━━━━━━━━\u001b[0m\u001b[37m\u001b[0m \u001b[1m0s\u001b[0m 2ms/step - accuracy: 0.6736 - loss: 2329.8977\n",
      "\u001b[1m1/1\u001b[0m \u001b[32m━━━━━━━━━━━━━━━━━━━━\u001b[0m\u001b[37m\u001b[0m \u001b[1m0s\u001b[0m 20ms/step\n",
      "Epoch 42/50\n",
      "\u001b[1m200/200\u001b[0m \u001b[32m━━━━━━━━━━━━━━━━━━━━\u001b[0m\u001b[37m\u001b[0m \u001b[1m0s\u001b[0m 2ms/step - accuracy: 0.6737 - loss: 2327.7747\n",
      "\u001b[1m1/1\u001b[0m \u001b[32m━━━━━━━━━━━━━━━━━━━━\u001b[0m\u001b[37m\u001b[0m \u001b[1m0s\u001b[0m 8ms/step\n",
      "Epoch 43/50\n",
      "\u001b[1m200/200\u001b[0m \u001b[32m━━━━━━━━━━━━━━━━━━━━\u001b[0m\u001b[37m\u001b[0m \u001b[1m0s\u001b[0m 2ms/step - accuracy: 0.6738 - loss: 2325.6467\n",
      "\u001b[1m1/1\u001b[0m \u001b[32m━━━━━━━━━━━━━━━━━━━━\u001b[0m\u001b[37m\u001b[0m \u001b[1m0s\u001b[0m 9ms/step\n",
      "Epoch 44/50\n",
      "\u001b[1m200/200\u001b[0m \u001b[32m━━━━━━━━━━━━━━━━━━━━\u001b[0m\u001b[37m\u001b[0m \u001b[1m0s\u001b[0m 1ms/step - accuracy: 0.6737 - loss: 2324.0244\n",
      "\u001b[1m1/1\u001b[0m \u001b[32m━━━━━━━━━━━━━━━━━━━━\u001b[0m\u001b[37m\u001b[0m \u001b[1m0s\u001b[0m 8ms/step\n",
      "Epoch 45/50\n",
      "\u001b[1m200/200\u001b[0m \u001b[32m━━━━━━━━━━━━━━━━━━━━\u001b[0m\u001b[37m\u001b[0m \u001b[1m0s\u001b[0m 1ms/step - accuracy: 0.6739 - loss: 2321.9670\n",
      "\u001b[1m1/1\u001b[0m \u001b[32m━━━━━━━━━━━━━━━━━━━━\u001b[0m\u001b[37m\u001b[0m \u001b[1m0s\u001b[0m 8ms/step\n",
      "Epoch 46/50\n",
      "\u001b[1m200/200\u001b[0m \u001b[32m━━━━━━━━━━━━━━━━━━━━\u001b[0m\u001b[37m\u001b[0m \u001b[1m0s\u001b[0m 2ms/step - accuracy: 0.6741 - loss: 2319.9858\n",
      "\u001b[1m1/1\u001b[0m \u001b[32m━━━━━━━━━━━━━━━━━━━━\u001b[0m\u001b[37m\u001b[0m \u001b[1m0s\u001b[0m 18ms/step\n",
      "Epoch 47/50\n",
      "\u001b[1m200/200\u001b[0m \u001b[32m━━━━━━━━━━━━━━━━━━━━\u001b[0m\u001b[37m\u001b[0m \u001b[1m0s\u001b[0m 1ms/step - accuracy: 0.6743 - loss: 2317.7729\n",
      "\u001b[1m1/1\u001b[0m \u001b[32m━━━━━━━━━━━━━━━━━━━━\u001b[0m\u001b[37m\u001b[0m \u001b[1m0s\u001b[0m 11ms/step\n",
      "Epoch 48/50\n",
      "\u001b[1m200/200\u001b[0m \u001b[32m━━━━━━━━━━━━━━━━━━━━\u001b[0m\u001b[37m\u001b[0m \u001b[1m0s\u001b[0m 2ms/step - accuracy: 0.6742 - loss: 2316.1890\n",
      "\u001b[1m1/1\u001b[0m \u001b[32m━━━━━━━━━━━━━━━━━━━━\u001b[0m\u001b[37m\u001b[0m \u001b[1m0s\u001b[0m 9ms/step\n",
      "Epoch 49/50\n",
      "\u001b[1m200/200\u001b[0m \u001b[32m━━━━━━━━━━━━━━━━━━━━\u001b[0m\u001b[37m\u001b[0m \u001b[1m0s\u001b[0m 2ms/step - accuracy: 0.6744 - loss: 2314.0515\n",
      "\u001b[1m1/1\u001b[0m \u001b[32m━━━━━━━━━━━━━━━━━━━━\u001b[0m\u001b[37m\u001b[0m \u001b[1m0s\u001b[0m 9ms/step\n",
      "Epoch 50/50\n",
      "\u001b[1m200/200\u001b[0m \u001b[32m━━━━━━━━━━━━━━━━━━━━\u001b[0m\u001b[37m\u001b[0m \u001b[1m0s\u001b[0m 1ms/step - accuracy: 0.6745 - loss: 2312.5291\n"
     ]
    }
   ],
   "source": [
    " # Training the model with the specified training data, epochs, batch size, and callback\n",
    "history = model.fit(x_train_flattened, y_train_transformed, epochs=NUM_EPOCH, batch_size=BATCH_SIZE, callbacks=[plot_collector])"
   ]
  },
  {
   "cell_type": "code",
   "execution_count": 50,
   "id": "93738635-0763-4f37-8bdb-ceb8d84c310b",
   "metadata": {
    "tags": []
   },
   "outputs": [
    {
     "name": "stdout",
     "output_type": "stream",
     "text": [
      " Loss plot saved to: /Users/marie/Desktop/loss_plot_2.png\n"
     ]
    },
    {
     "data": {
      "image/png": "[encoded data removed]",
      "text/plain": [
       "<Figure size 640x480 with 1 Axes>"
      ]
     },
     "metadata": {},
     "output_type": "display_data"
    }
   ],
   "source": [
    "losses = history.history[\"loss\"]\n",
    "epochs = list(range(NUM_EPOCH))\n",
    "sns.lineplot(x=epochs, y=losses)\n",
    "\n",
    "plt.xticks(ticks=np.arange(0, NUM_EPOCH, 5)) \n",
    "plt.xlabel(\"Epoch\")\n",
    "plt.ylabel(\"Loss\")\n",
    "plt.title(\"Training Loss over Epochs\")\n",
    "\n",
    "plt.grid(False)\n",
    "\n",
    "#Save to Desktop\n",
    "desktop_path = os.path.join(os.path.expanduser(\"~\"), \"Desktop\")\n",
    "file_path = os.path.join(desktop_path, \"loss_plot_2.png\")\n",
    "plt.savefig(file_path, dpi=300)\n",
    "print(f\" Loss plot saved to: {file_path}\")\n",
    "\n",
    "plt.show()"
   ]
  },
  {
   "cell_type": "code",
   "execution_count": 51,
   "id": "9973d036-9756-48ff-995e-79041907ce74",
   "metadata": {
    "tags": []
   },
   "outputs": [
    {
     "name": "stdout",
     "output_type": "stream",
     "text": [
      " Subplot figure saved to: /Users/marie/Desktop/prediction_subplots.png\n"
     ]
    },
    {
     "data": {
      "image/png": "[encoded data removed]",
      "text/plain": [
       "<Figure size 1200x1000 with 2 Axes>"
      ]
     },
     "metadata": {},
     "output_type": "display_data"
    }
   ],
   "source": [
    "# Data\n",
    "plot_data = np.array(plot_collector.predictions)\n",
    "epochs = np.arange(plot_data.shape[0])\n",
    "\n",
    "# Create the figure with 2 subplots\n",
    "fig, (ax1, ax2) = plt.subplots(2, 1, figsize=(12, 10), sharey=True)\n",
    "\n",
    "# Full range plot\n",
    "for i in range(10):\n",
    "    sns.lineplot(x=epochs, y=plot_data[:, i], label=f'digit {i}', ax=ax1)\n",
    "\n",
    "ax1.set_xticks(np.arange(0, plot_data.shape[0] + 1, 5))\n",
    "ax1.set_xlabel('Epochs')\n",
    "ax1.set_ylabel('Prediction value')\n",
    "ax1.set_title('Evolution of predictions for each digit')\n",
    "ax1.legend(title=\"Digit\", loc='right')\n",
    "ax1.grid(False)\n",
    "\n",
    "# Zoom on first 3 epochs\n",
    "for i in range(10):\n",
    "    sns.lineplot(x=epochs[:3], y=plot_data[:3, i],label=f'digit {i}', ax=ax2)\n",
    "\n",
    "ax2.set_xticks(np.arange(0, 3, 1))\n",
    "ax2.set_xlabel('Epochs (Zoomed)')\n",
    "ax2.set_ylabel('Prediction value')\n",
    "ax2.set_title('Zoom on first 3 epochs')\n",
    "ax2.legend(title=\"Digit\", loc='right')\n",
    "ax2.grid(False)\n",
    "\n",
    "plt.tight_layout()\n",
    "\n",
    "\n",
    "# Save the plot to Desktop\n",
    "desktop_path = os.path.join(os.path.expanduser(\"~\"), \"Desktop\")\n",
    "file_path = os.path.join(desktop_path, \"prediction_subplots.png\")\n",
    "fig.savefig(file_path, dpi=300)\n",
    "print(f\" Subplot figure saved to: {file_path}\")\n",
    "\n",
    "plt.show()"
   ]
  },
  {
   "cell_type": "code",
   "execution_count": 52,
   "id": "ef75cad6-1f87-475f-abc5-07050939b20d",
   "metadata": {
    "tags": []
   },
   "outputs": [
    {
     "name": "stdout",
     "output_type": "stream",
     "text": [
      "\u001b[1m313/313\u001b[0m \u001b[32m━━━━━━━━━━━━━━━━━━━━\u001b[0m\u001b[37m\u001b[0m \u001b[1m0s\u001b[0m 322us/step - accuracy: 0.6664 - loss: 2444.1848 \n",
      "[2391.480712890625, 0.6697999835014343]\n"
     ]
    }
   ],
   "source": [
    "# Evaluating the model on the test set and printing the results\n",
    "print(model.evaluate(x_test_flattened, y_test_transformed))"
   ]
  },
  {
   "cell_type": "markdown",
   "id": "5aa457c3-be8d-498d-aa3c-d8351b7895d7",
   "metadata": {
    "tags": []
   },
   "source": [
    "## Translation of the NN into a CRN"
   ]
  },
  {
   "cell_type": "code",
   "execution_count": 53,
   "id": "596ff609-90f3-4211-bcdf-f4d59c074cea",
   "metadata": {
    "tags": []
   },
   "outputs": [],
   "source": [
    "# Retrieve all Dense layers from the model. \n",
    "dense_layers = [layer for layer in model.layers if hasattr(layer, 'get_weights') and len(layer.get_weights()) >= 2]"
   ]
  },
  {
   "cell_type": "code",
   "execution_count": 54,
   "id": "5d344319-133a-4898-b230-bd1d6819f6f9",
   "metadata": {
    "tags": []
   },
   "outputs": [],
   "source": [
    "# Lists to store the CRN reactions and initial state for the bias species.\n",
    "crn_reactions = []       # Each element: ([(coef, species), ...], [(coef, species), ...])\n",
    "crn_initial_state = {}   # Dictionary: species -> initial count (bias value)\n",
    "\n",
    "# For CRN generation, we treat the network as a series of transformations:\n",
    "# The input to the first transformation is the external input (encoded as species x_0_i)\n",
    "# and each dense layer transforms signals from layer l (x_l) to layer l+1.\n",
    "for l, layer in enumerate(dense_layers):\n",
    "    # Obtain the weight matrix and bias vector.\n",
    "    # For a Dense layer, weights shape: (n_input, n_output) and biases shape: (n_output,)\n",
    "    weights, biases = layer.get_weights()\n",
    "    n_input, n_output = weights.shape\n",
    "\n",
    "    # (1) Generate \"copy\" reactions to broadcast the input species to intermediate species.\n",
    "    # For each input neuron i in layer l:\n",
    "    for i in range(n_input):\n",
    "        # Reaction for the positive signal:\n",
    "        # x_l_i+ -> y_{l+1}_0_i+ + y_{l+1}_1_i+ + ... + y_{l+1}_{n_output-1}_i+\n",
    "        prod_species = [(1, f\"y_{l+1}_{j}_{i}+\") for j in range(n_output)]\n",
    "        crn_reactions.append(([(1, f\"x_{l}_{i}+\")], prod_species))\n",
    "            \n",
    "        # Reaction for the negative signal:\n",
    "        # x_l_i- -> y_{l+1}_0_i- + y_{l+1}_1_i- + ... + y_{l+1}_{n_output-1}_i-\n",
    "        prod_species = [(1, f\"y_{l+1}_{j}_{i}-\") for j in range(n_output)]\n",
    "        crn_reactions.append(([(1, f\"x_{l}_{i}-\")], prod_species))\n",
    "    \n",
    "    # (2) For each output neuron j in the next layer (l+1):\n",
    "    for j in range(n_output):\n",
    "        # Add the bias to the initial state.\n",
    "        # The species for bias depends on its sign.\n",
    "        bias_val = biases[j]\n",
    "        bias_species = f\"s_{l+1}_{j}+\" if bias_val >= 0 else f\"s_{l+1}_{j}-\"\n",
    "        bias_amount = int(abs(bias_val)) #the number of molecules need to be an integer\n",
    "        if bias_amount != 0:\n",
    "            crn_initial_state[bias_species] = bias_amount\n",
    "\n",
    "        # For each connection from input neuron i to output neuron j:\n",
    "        for i in range(n_input):\n",
    "            weight_val = weights[i, j]\n",
    "\n",
    "            # Determine the sign for the weight.\n",
    "            weight_sign = '+' if weight_val >= 0 else '-'\n",
    "            # Express the magnitude of the weight as a rational number p/q.\n",
    "            frac = Fraction(float(abs(weight_val))).limit_denominator(255)\n",
    "            p, q = frac.numerator, frac.denominator\n",
    "\n",
    "            # Add reactions corresponding to the weight scaling.\n",
    "            if weight_sign == '+':\n",
    "                # For positive weight:\n",
    "                # (q, y_{l+1}_{j}_{i}+) -> (p, s_{l+1}_{j}+)\n",
    "                crn_reactions.append(([(q, f\"y_{l+1}_{j}_{i}+\")], [(p, f\"s_{l+1}_{j}+\")]))\n",
    "                # (q, y_{l+1}_{j}_{i}-) -> (p, s_{l+1}_{j}-)\n",
    "                crn_reactions.append(([(q, f\"y_{l+1}_{j}_{i}-\")], [(p, f\"s_{l+1}_{j}-\")]))\n",
    "            else:\n",
    "                # For negative weight: swap the output sign.\n",
    "                # (q, y_{l+1}_{j}_{i}+) -> (p, s_{l+1}_{j}-)\n",
    "                crn_reactions.append(([(q, f\"y_{l+1}_{j}_{i}+\")], [(p, f\"s_{l+1}_{j}-\")]))\n",
    "                # (q, y_{l+1}_{j}_{i}-) -> (p, s_{l+1}_{j}+)\n",
    "                crn_reactions.append(([(q, f\"y_{l+1}_{j}_{i}-\")], [(p, f\"s_{l+1}_{j}+\")]))\n",
    "        # (3) Add the RELU reactions:\n",
    "        # Reaction: s_{l+1}_{j}+ -> m_{l+1}_{j} + x_{l+1}_{j}+\n",
    "        crn_reactions.append(([(1, f\"s_{l+1}_{j}+\")], [(1, f\"m_{l+1}_{j}\"), (1, f\"x_{l+1}_{j}+\")]))\n",
    "        # Reaction: m_{l+1}_{j} + s_{l+1}_{j}- -> x_{l+1}_{j}-\n",
    "        crn_reactions.append(([(1, f\"m_{l+1}_{j}\"), (1, f\"s_{l+1}_{j}-\")], [(1, f\"x_{l+1}_{j}-\")]))"
   ]
  },
  {
   "cell_type": "code",
   "execution_count": 55,
   "id": "5eee57d0-e5ab-449a-a4d3-f03f38ae836a",
   "metadata": {
    "tags": []
   },
   "outputs": [
    {
     "name": "stdout",
     "output_type": "stream",
     "text": [
      "Generated Chemical Reaction Network (only displaying first and last 10 reactions):\n",
      "(1, x_0_0+) -> (1, y_1_0_0+), (1, y_1_1_0+), (1, y_1_2_0+), (1, y_1_3_0+), (1, y_1_4_0+), (1, y_1_5_0+), (1, y_1_6_0+), (1, y_1_7_0+), (1, y_1_8_0+), (1, y_1_9_0+), (1, y_1_10_0+), (1, y_1_11_0+), (1, y_1_12_0+), (1, y_1_13_0+), (1, y_1_14_0+), (1, y_1_15_0+), (1, y_1_16_0+), (1, y_1_17_0+), (1, y_1_18_0+), (1, y_1_19_0+), (1, y_1_20_0+), (1, y_1_21_0+), (1, y_1_22_0+), (1, y_1_23_0+), (1, y_1_24_0+), (1, y_1_25_0+), (1, y_1_26_0+), (1, y_1_27_0+), (1, y_1_28_0+), (1, y_1_29_0+), (1, y_1_30_0+), (1, y_1_31_0+), (1, y_1_32_0+), (1, y_1_33_0+), (1, y_1_34_0+), (1, y_1_35_0+), (1, y_1_36_0+), (1, y_1_37_0+), (1, y_1_38_0+), (1, y_1_39_0+)\n",
      "(1, x_0_0-) -> (1, y_1_0_0-), (1, y_1_1_0-), (1, y_1_2_0-), (1, y_1_3_0-), (1, y_1_4_0-), (1, y_1_5_0-), (1, y_1_6_0-), (1, y_1_7_0-), (1, y_1_8_0-), (1, y_1_9_0-), (1, y_1_10_0-), (1, y_1_11_0-), (1, y_1_12_0-), (1, y_1_13_0-), (1, y_1_14_0-), (1, y_1_15_0-), (1, y_1_16_0-), (1, y_1_17_0-), (1, y_1_18_0-), (1, y_1_19_0-), (1, y_1_20_0-), (1, y_1_21_0-), (1, y_1_22_0-), (1, y_1_23_0-), (1, y_1_24_0-), (1, y_1_25_0-), (1, y_1_26_0-), (1, y_1_27_0-), (1, y_1_28_0-), (1, y_1_29_0-), (1, y_1_30_0-), (1, y_1_31_0-), (1, y_1_32_0-), (1, y_1_33_0-), (1, y_1_34_0-), (1, y_1_35_0-), (1, y_1_36_0-), (1, y_1_37_0-), (1, y_1_38_0-), (1, y_1_39_0-)\n",
      "(1, x_0_1+) -> (1, y_1_0_1+), (1, y_1_1_1+), (1, y_1_2_1+), (1, y_1_3_1+), (1, y_1_4_1+), (1, y_1_5_1+), (1, y_1_6_1+), (1, y_1_7_1+), (1, y_1_8_1+), (1, y_1_9_1+), (1, y_1_10_1+), (1, y_1_11_1+), (1, y_1_12_1+), (1, y_1_13_1+), (1, y_1_14_1+), (1, y_1_15_1+), (1, y_1_16_1+), (1, y_1_17_1+), (1, y_1_18_1+), (1, y_1_19_1+), (1, y_1_20_1+), (1, y_1_21_1+), (1, y_1_22_1+), (1, y_1_23_1+), (1, y_1_24_1+), (1, y_1_25_1+), (1, y_1_26_1+), (1, y_1_27_1+), (1, y_1_28_1+), (1, y_1_29_1+), (1, y_1_30_1+), (1, y_1_31_1+), (1, y_1_32_1+), (1, y_1_33_1+), (1, y_1_34_1+), (1, y_1_35_1+), (1, y_1_36_1+), (1, y_1_37_1+), (1, y_1_38_1+), (1, y_1_39_1+)\n",
      "(1, x_0_1-) -> (1, y_1_0_1-), (1, y_1_1_1-), (1, y_1_2_1-), (1, y_1_3_1-), (1, y_1_4_1-), (1, y_1_5_1-), (1, y_1_6_1-), (1, y_1_7_1-), (1, y_1_8_1-), (1, y_1_9_1-), (1, y_1_10_1-), (1, y_1_11_1-), (1, y_1_12_1-), (1, y_1_13_1-), (1, y_1_14_1-), (1, y_1_15_1-), (1, y_1_16_1-), (1, y_1_17_1-), (1, y_1_18_1-), (1, y_1_19_1-), (1, y_1_20_1-), (1, y_1_21_1-), (1, y_1_22_1-), (1, y_1_23_1-), (1, y_1_24_1-), (1, y_1_25_1-), (1, y_1_26_1-), (1, y_1_27_1-), (1, y_1_28_1-), (1, y_1_29_1-), (1, y_1_30_1-), (1, y_1_31_1-), (1, y_1_32_1-), (1, y_1_33_1-), (1, y_1_34_1-), (1, y_1_35_1-), (1, y_1_36_1-), (1, y_1_37_1-), (1, y_1_38_1-), (1, y_1_39_1-)\n",
      "(1, x_0_2+) -> (1, y_1_0_2+), (1, y_1_1_2+), (1, y_1_2_2+), (1, y_1_3_2+), (1, y_1_4_2+), (1, y_1_5_2+), (1, y_1_6_2+), (1, y_1_7_2+), (1, y_1_8_2+), (1, y_1_9_2+), (1, y_1_10_2+), (1, y_1_11_2+), (1, y_1_12_2+), (1, y_1_13_2+), (1, y_1_14_2+), (1, y_1_15_2+), (1, y_1_16_2+), (1, y_1_17_2+), (1, y_1_18_2+), (1, y_1_19_2+), (1, y_1_20_2+), (1, y_1_21_2+), (1, y_1_22_2+), (1, y_1_23_2+), (1, y_1_24_2+), (1, y_1_25_2+), (1, y_1_26_2+), (1, y_1_27_2+), (1, y_1_28_2+), (1, y_1_29_2+), (1, y_1_30_2+), (1, y_1_31_2+), (1, y_1_32_2+), (1, y_1_33_2+), (1, y_1_34_2+), (1, y_1_35_2+), (1, y_1_36_2+), (1, y_1_37_2+), (1, y_1_38_2+), (1, y_1_39_2+)\n",
      "(1, x_0_2-) -> (1, y_1_0_2-), (1, y_1_1_2-), (1, y_1_2_2-), (1, y_1_3_2-), (1, y_1_4_2-), (1, y_1_5_2-), (1, y_1_6_2-), (1, y_1_7_2-), (1, y_1_8_2-), (1, y_1_9_2-), (1, y_1_10_2-), (1, y_1_11_2-), (1, y_1_12_2-), (1, y_1_13_2-), (1, y_1_14_2-), (1, y_1_15_2-), (1, y_1_16_2-), (1, y_1_17_2-), (1, y_1_18_2-), (1, y_1_19_2-), (1, y_1_20_2-), (1, y_1_21_2-), (1, y_1_22_2-), (1, y_1_23_2-), (1, y_1_24_2-), (1, y_1_25_2-), (1, y_1_26_2-), (1, y_1_27_2-), (1, y_1_28_2-), (1, y_1_29_2-), (1, y_1_30_2-), (1, y_1_31_2-), (1, y_1_32_2-), (1, y_1_33_2-), (1, y_1_34_2-), (1, y_1_35_2-), (1, y_1_36_2-), (1, y_1_37_2-), (1, y_1_38_2-), (1, y_1_39_2-)\n",
      "(1, x_0_3+) -> (1, y_1_0_3+), (1, y_1_1_3+), (1, y_1_2_3+), (1, y_1_3_3+), (1, y_1_4_3+), (1, y_1_5_3+), (1, y_1_6_3+), (1, y_1_7_3+), (1, y_1_8_3+), (1, y_1_9_3+), (1, y_1_10_3+), (1, y_1_11_3+), (1, y_1_12_3+), (1, y_1_13_3+), (1, y_1_14_3+), (1, y_1_15_3+), (1, y_1_16_3+), (1, y_1_17_3+), (1, y_1_18_3+), (1, y_1_19_3+), (1, y_1_20_3+), (1, y_1_21_3+), (1, y_1_22_3+), (1, y_1_23_3+), (1, y_1_24_3+), (1, y_1_25_3+), (1, y_1_26_3+), (1, y_1_27_3+), (1, y_1_28_3+), (1, y_1_29_3+), (1, y_1_30_3+), (1, y_1_31_3+), (1, y_1_32_3+), (1, y_1_33_3+), (1, y_1_34_3+), (1, y_1_35_3+), (1, y_1_36_3+), (1, y_1_37_3+), (1, y_1_38_3+), (1, y_1_39_3+)\n",
      "(1, x_0_3-) -> (1, y_1_0_3-), (1, y_1_1_3-), (1, y_1_2_3-), (1, y_1_3_3-), (1, y_1_4_3-), (1, y_1_5_3-), (1, y_1_6_3-), (1, y_1_7_3-), (1, y_1_8_3-), (1, y_1_9_3-), (1, y_1_10_3-), (1, y_1_11_3-), (1, y_1_12_3-), (1, y_1_13_3-), (1, y_1_14_3-), (1, y_1_15_3-), (1, y_1_16_3-), (1, y_1_17_3-), (1, y_1_18_3-), (1, y_1_19_3-), (1, y_1_20_3-), (1, y_1_21_3-), (1, y_1_22_3-), (1, y_1_23_3-), (1, y_1_24_3-), (1, y_1_25_3-), (1, y_1_26_3-), (1, y_1_27_3-), (1, y_1_28_3-), (1, y_1_29_3-), (1, y_1_30_3-), (1, y_1_31_3-), (1, y_1_32_3-), (1, y_1_33_3-), (1, y_1_34_3-), (1, y_1_35_3-), (1, y_1_36_3-), (1, y_1_37_3-), (1, y_1_38_3-), (1, y_1_39_3-)\n",
      "(1, x_0_4+) -> (1, y_1_0_4+), (1, y_1_1_4+), (1, y_1_2_4+), (1, y_1_3_4+), (1, y_1_4_4+), (1, y_1_5_4+), (1, y_1_6_4+), (1, y_1_7_4+), (1, y_1_8_4+), (1, y_1_9_4+), (1, y_1_10_4+), (1, y_1_11_4+), (1, y_1_12_4+), (1, y_1_13_4+), (1, y_1_14_4+), (1, y_1_15_4+), (1, y_1_16_4+), (1, y_1_17_4+), (1, y_1_18_4+), (1, y_1_19_4+), (1, y_1_20_4+), (1, y_1_21_4+), (1, y_1_22_4+), (1, y_1_23_4+), (1, y_1_24_4+), (1, y_1_25_4+), (1, y_1_26_4+), (1, y_1_27_4+), (1, y_1_28_4+), (1, y_1_29_4+), (1, y_1_30_4+), (1, y_1_31_4+), (1, y_1_32_4+), (1, y_1_33_4+), (1, y_1_34_4+), (1, y_1_35_4+), (1, y_1_36_4+), (1, y_1_37_4+), (1, y_1_38_4+), (1, y_1_39_4+)\n",
      "(1, x_0_4-) -> (1, y_1_0_4-), (1, y_1_1_4-), (1, y_1_2_4-), (1, y_1_3_4-), (1, y_1_4_4-), (1, y_1_5_4-), (1, y_1_6_4-), (1, y_1_7_4-), (1, y_1_8_4-), (1, y_1_9_4-), (1, y_1_10_4-), (1, y_1_11_4-), (1, y_1_12_4-), (1, y_1_13_4-), (1, y_1_14_4-), (1, y_1_15_4-), (1, y_1_16_4-), (1, y_1_17_4-), (1, y_1_18_4-), (1, y_1_19_4-), (1, y_1_20_4-), (1, y_1_21_4-), (1, y_1_22_4-), (1, y_1_23_4-), (1, y_1_24_4-), (1, y_1_25_4-), (1, y_1_26_4-), (1, y_1_27_4-), (1, y_1_28_4-), (1, y_1_29_4-), (1, y_1_30_4-), (1, y_1_31_4-), (1, y_1_32_4-), (1, y_1_33_4-), (1, y_1_34_4-), (1, y_1_35_4-), (1, y_1_36_4-), (1, y_1_37_4-), (1, y_1_38_4-), (1, y_1_39_4-)\n",
      "(3, y_2_9_36+) -> (1, s_2_9+)\n",
      "(3, y_2_9_36-) -> (1, s_2_9-)\n",
      "(253, y_2_9_37+) -> (21, s_2_9+)\n",
      "(253, y_2_9_37-) -> (21, s_2_9-)\n",
      "(251, y_2_9_38+) -> (21, s_2_9+)\n",
      "(251, y_2_9_38-) -> (21, s_2_9-)\n",
      "(64, y_2_9_39+) -> (19, s_2_9+)\n",
      "(64, y_2_9_39-) -> (19, s_2_9-)\n",
      "(1, s_2_9+) -> (1, m_2_9), (1, x_2_9+)\n",
      "(1, m_2_9), (1, s_2_9-) -> (1, x_2_9-)\n"
     ]
    }
   ],
   "source": [
    "# For demonstration, print out the generated set of reactions and the initial bias states.\n",
    "print(\"Generated Chemical Reaction Network (only displaying first and last 10 reactions):\")\n",
    "for inputs, outputs in crn_reactions[:10] + crn_reactions[-10:]:\n",
    "    # Format the reaction as: \"[(coef, species), ...] -> [(coef, species), ...]\"\n",
    "    inputs_str = \", \".join([f\"({coef}, {spec})\" for coef, spec in inputs])\n",
    "    outputs_str = \", \".join([f\"({coef}, {spec})\" for coef, spec in outputs])\n",
    "    print(f\"{inputs_str} -> {outputs_str}\")"
   ]
  },
  {
   "cell_type": "code",
   "execution_count": 56,
   "id": "e0baebbc-8587-404d-bece-adb1d7c39741",
   "metadata": {
    "tags": []
   },
   "outputs": [
    {
     "name": "stdout",
     "output_type": "stream",
     "text": [
      "\n",
      "Initial State for Bias Species (only showing non-zero species):\n",
      "s_1_0-: 1\n",
      "s_1_2+: 1\n",
      "s_1_6-: 1\n",
      "s_1_7+: 1\n",
      "s_1_22+: 1\n",
      "s_1_25+: 1\n",
      "s_1_26-: 1\n",
      "s_1_29-: 1\n",
      "s_1_31-: 1\n",
      "s_1_35-: 1\n",
      "s_1_39+: 1\n",
      "s_2_0-: 1\n",
      "s_2_2+: 1\n",
      "s_2_6-: 1\n",
      "s_2_7+: 1\n"
     ]
    }
   ],
   "source": [
    "print(\"\\nInitial State for Bias Species (only showing non-zero species):\")\n",
    "for species, count in crn_initial_state.items():\n",
    "    print(f\"{species}: {count}\")"
   ]
  },
  {
   "cell_type": "markdown",
   "id": "ee9ea8b1-0d65-48c8-b4d8-b322571cdf0b",
   "metadata": {},
   "source": [
    "## Simulation of the CRN "
   ]
  },
  {
   "cell_type": "code",
   "execution_count": 57,
   "id": "05af7f87-c0f0-4a4f-a820-f720e6ec37a9",
   "metadata": {
    "tags": []
   },
   "outputs": [],
   "source": [
    "def calculate_outputs(current_state, num_layers):\n",
    "    output_results = {}\n",
    "    output_prefix = f\"x_{num_layers}_\"\n",
    "    prefix_len = len(output_prefix)\n",
    "\n",
    "    for specie, count in current_state.items():\n",
    "        # Check if the species name matches the output layer pattern and ends with +/-\n",
    "        if specie.startswith(output_prefix) and specie[-1] in ['+', '-']:\n",
    "            # Extract the base name (e.g., \"x_2_0\" from \"x_2_0+\" or \"x_2_0-\")\n",
    "            base = specie[prefix_len:-1]\n",
    "            # Initialize the base name in results if not seen before\n",
    "            if base not in output_results:\n",
    "                output_results[base] = 0\n",
    "            # Add count for positive species, subtract for negative species\n",
    "            if specie[-1] == '+':\n",
    "                output_results[base] += count\n",
    "            else: # specie[-1] == '-'\n",
    "                output_results[base] -= count\n",
    "    return output_results\n",
    "\n",
    "def evaluate_with_history(sample_input):\n",
    "    # Define the input multiset based on the sample input.\n",
    "    input_multiset = {\n",
    "        f\"x_0_{i}+\": int(sample_input[i]) # Assuming input species are x_0_i+\n",
    "        for i in range(IMAGE_SIZE)\n",
    "    }\n",
    "\n",
    "    # Initialize the simulation state\n",
    "    state = crn_initial_state.copy()\n",
    "\n",
    "    # Add the input molecules to the state.\n",
    "    for species, count in input_multiset.items():\n",
    "        state[species] = state.get(species, 0) + count\n",
    "    \n",
    "    # Helper function to check if a reaction can be applied.\n",
    "    def reaction_applicable(reactants, current_state):\n",
    "        for coef, specie in reactants:\n",
    "            if current_state.get(specie, 0) < coef:\n",
    "                return False # Not enough reactant molecules\n",
    "        return True # All reactants are sufficiently present\n",
    "\n",
    "    output_history = []\n",
    "    num_layers = len(dense_layers)\n",
    "    #Simulation Loop\n",
    "    iteration = 0\n",
    "    while True:\n",
    "        reaction_fired = False\n",
    "        for reactants, products in crn_reactions:\n",
    "            if reaction_applicable(reactants, state):\n",
    "                # Consume reactants.\n",
    "                for coef, specie in reactants:\n",
    "                    state[specie] -= coef\n",
    "                # Produce products.\n",
    "                for coef, specie in products:\n",
    "                    state[specie] = state.get(specie, 0) + coef\n",
    "                reaction_fired = True # Mark that at least one reaction fired.\n",
    "                \n",
    "                \n",
    "        current_outputs = calculate_outputs(state, num_layers)\n",
    "        output_history.append(current_outputs)\n",
    "\n",
    "        # If no reaction was fired in the entire pass through all rules, the system is stable.\n",
    "        if not reaction_fired:\n",
    "            break # Exit the simulation loop\n",
    "\n",
    "        # Aggregate and Store Outputs for this Iteration\n",
    "        iteration += 1\n",
    "\n",
    "    # Final Output\n",
    "    final_outputs = output_history[-1]\n",
    "    print(f\"\\nSimulation finished after {iteration} iterations where reactions occurred.\")\n",
    "    print(\"Final Simulation Output (x_out = x_out+ - x_out-):\")\n",
    "    # Sort keys for consistent printing order\n",
    "    for out_base in sorted(final_outputs.keys()):\n",
    "        net_count = final_outputs[out_base]\n",
    "        print(f\"{out_base}: {net_count}\")\n",
    "\n",
    "    # Return the recorded history.\n",
    "    return output_history"
   ]
  },
  {
   "cell_type": "code",
   "execution_count": 61,
   "id": "b103710a-a90e-4139-a910-972c1d9fa176",
   "metadata": {
    "tags": []
   },
   "outputs": [],
   "source": [
    "def plot_history(history, answer, save_path):\n",
    "    history = np.array([[output.get(str(i), 0) for i in range(10)] for output in history])\n",
    "    plot_data = np.array(history)\n",
    "    epochs = np.arange(plot_data.shape[0])\n",
    "    \n",
    "    fig, ax = plt.subplots(figsize=(10, 6), sharey=True)\n",
    "    \n",
    "    for i in range(10):\n",
    "        sns.lineplot(x=epochs, y=plot_data[:, i], label=f'digit {i}', ax=ax)\n",
    "    \n",
    "    ax.set_xticks(np.arange(0, plot_data.shape[0] + 1, round(len(history)/2000)*100))\n",
    "    ax.set_xlabel('Evaluation step')\n",
    "    ax.set_ylabel('Concentration value')\n",
    "    ax.set_yscale('log')\n",
    "    ax.set_title(f'Evolution of output species for each digit. (True digit: {answer})')\n",
    "    ax.legend(title=\"Digit\", loc='right')\n",
    "    ax.grid(False)\n",
    "    \n",
    "    plt.tight_layout()\n",
    "    \n",
    "    fig.savefig(save_path, dpi=300)\n",
    "    print(f\"Plot saved to: {save_path}\")\n",
    "    plt.show()"
   ]
  },
  {
   "cell_type": "code",
   "execution_count": 62,
   "id": "d35f3a6f-53a3-47ed-9ca9-84c4141de37e",
   "metadata": {
    "tags": []
   },
   "outputs": [
    {
     "name": "stdout",
     "output_type": "stream",
     "text": [
      "\n",
      "Simulation finished after 5475 iterations where reactions occurred.\n",
      "Final Simulation Output (x_out = x_out+ - x_out-):\n",
      "0: 0\n",
      "1: 0\n",
      "2: 0\n",
      "3: 0\n",
      "4: 0\n",
      "5: 194\n",
      "6: 0\n",
      "7: 0\n",
      "8: 0\n",
      "9: 0\n",
      "Plot saved to: /Users/marie/Desktop/digit_output_plot_6932.png\n"
     ]
    },
    {
     "data": {
      "image/png": "[encoded data removed]",
      "text/plain": [
       "<Figure size 1000x600 with 1 Axes>"
      ]
     },
     "metadata": {},
     "output_type": "display_data"
    },
    {
     "data": {
      "image/png": "[encoded data removed]",
      "text/plain": [
       "<Figure size 640x480 with 1 Axes>"
      ]
     },
     "metadata": {},
     "output_type": "display_data"
    },
    {
     "name": "stdout",
     "output_type": "stream",
     "text": [
      "Answer 5\n",
      "NN prediction [  0.        0.        0.        0.        0.      238.44508   0.\n",
      "   0.        0.        0.     ]\n",
      "\n",
      "Simulation finished after 2145 iterations where reactions occurred.\n",
      "Final Simulation Output (x_out = x_out+ - x_out-):\n",
      "0: 0\n",
      "1: 0\n",
      "2: 0\n",
      "3: 0\n",
      "4: 0\n",
      "5: 0\n",
      "6: 89\n",
      "7: 0\n",
      "8: 0\n",
      "9: 0\n",
      "Plot saved to: /Users/marie/Desktop/digit_output_plot_9437.png\n"
     ]
    },
    {
     "data": {
      "image/png": "[encoded data removed]",
      "text/plain": [
       "<Figure size 1000x600 with 1 Axes>"
      ]
     },
     "metadata": {},
     "output_type": "display_data"
    },
    {
     "data": {
      "image/png": "[encoded data removed]",
      "text/plain": [
       "<Figure size 640x480 with 1 Axes>"
      ]
     },
     "metadata": {},
     "output_type": "display_data"
    },
    {
     "name": "stdout",
     "output_type": "stream",
     "text": [
      "Answer 6\n",
      "NN prediction [  0.       0.       0.       0.       0.       0.     168.5703   0.\n",
      "   0.       0.    ]\n",
      "\n",
      "Simulation finished after 2439 iterations where reactions occurred.\n",
      "Final Simulation Output (x_out = x_out+ - x_out-):\n",
      "0: 0\n",
      "1: 0\n",
      "2: 0\n",
      "3: 0\n",
      "4: 0\n",
      "5: 0\n",
      "6: 0\n",
      "7: 0\n",
      "8: 0\n",
      "9: 0\n",
      "Plot saved to: /Users/marie/Desktop/digit_output_plot_9363.png\n"
     ]
    },
    {
     "data": {
      "image/png": "[encoded data removed]",
      "text/plain": [
       "<Figure size 1000x600 with 1 Axes>"
      ]
     },
     "metadata": {},
     "output_type": "display_data"
    },
    {
     "data": {
      "image/png": "[encoded data removed]",
      "text/plain": [
       "<Figure size 640x480 with 1 Axes>"
      ]
     },
     "metadata": {},
     "output_type": "display_data"
    },
    {
     "name": "stdout",
     "output_type": "stream",
     "text": [
      "Answer 3\n",
      "NN prediction [0. 0. 0. 0. 0. 0. 0. 0. 0. 0.]\n",
      "\n",
      "Simulation finished after 3362 iterations where reactions occurred.\n",
      "Final Simulation Output (x_out = x_out+ - x_out-):\n",
      "0: 0\n",
      "1: 0\n",
      "2: 0\n",
      "3: 0\n",
      "4: 161\n",
      "5: 0\n",
      "6: 18\n",
      "7: 0\n",
      "8: 0\n",
      "9: 0\n",
      "Plot saved to: /Users/marie/Desktop/digit_output_plot_6448.png\n"
     ]
    },
    {
     "data": {
      "image/png": "[encoded data removed]",
      "text/plain": [
       "<Figure size 1000x600 with 1 Axes>"
      ]
     },
     "metadata": {},
     "output_type": "display_data"
    },
    {
     "data": {
      "image/png": "[encoded data removed]",
      "text/plain": [
       "<Figure size 640x480 with 1 Axes>"
      ]
     },
     "metadata": {},
     "output_type": "display_data"
    },
    {
     "name": "stdout",
     "output_type": "stream",
     "text": [
      "Answer 4\n",
      "NN prediction [  0.        0.        0.        0.      272.91486   0.        0.\n",
      "   0.        0.        0.     ]\n",
      "\n",
      "Simulation finished after 5639 iterations where reactions occurred.\n",
      "Final Simulation Output (x_out = x_out+ - x_out-):\n",
      "0: 0\n",
      "1: 0\n",
      "2: 0\n",
      "3: 0\n",
      "4: 0\n",
      "5: 90\n",
      "6: 0\n",
      "7: 0\n",
      "8: 0\n",
      "9: 0\n",
      "Plot saved to: /Users/marie/Desktop/digit_output_plot_8722.png\n"
     ]
    },
    {
     "data": {
      "image/png": "[encoded data removed]",
      "text/plain": [
       "<Figure size 1000x600 with 1 Axes>"
      ]
     },
     "metadata": {},
     "output_type": "display_data"
    },
    {
     "data": {
      "image/png": "[encoded data removed]",
      "text/plain": [
       "<Figure size 640x480 with 1 Axes>"
      ]
     },
     "metadata": {},
     "output_type": "display_data"
    },
    {
     "name": "stdout",
     "output_type": "stream",
     "text": [
      "Answer 8\n",
      "NN prediction [0. 0. 0. 0. 0. 0. 0. 0. 0. 0.]\n"
     ]
    }
   ],
   "source": [
    "for _ in range(5):\n",
    "    i = np.random.randint(0, len(x_test_flattened))\n",
    "    sample_input = x_test_flattened[i]\n",
    "    history = evaluate_with_history(sample_input)\n",
    "    \n",
    "    desktop_path = os.path.join(os.path.expanduser(\"~\"), \"Desktop\")\n",
    "    filename = f\"digit_output_plot_{i}.png\"\n",
    "    full_path = os.path.join(desktop_path, filename)\n",
    "    plot_history(history, y_test[i], full_path)\n",
    "    \n",
    "    plt.imshow(sample_input.reshape(28, 28), cmap='gray')\n",
    "    plt.show()\n",
    "    print(\"Answer\", y_test[i])\n",
    "    print(\"NN prediction\", model.predict(np.array([sample_input]), verbose=0, batch_size=0)[0])"
   ]
  },
  {
   "cell_type": "code",
   "execution_count": 91,
   "id": "83f7bcdf-8053-42d8-96fe-3acb516ae6af",
   "metadata": {},
   "outputs": [
    {
     "name": "stderr",
     "output_type": "stream",
     "text": [
      "  1%|▊                                                                           | 1/100 [00:16<28:02, 16.99s/it]"
     ]
    },
    {
     "name": "stdout",
     "output_type": "stream",
     "text": [
      "\n",
      "Simulation finished after 2220 iterations where reactions occurred.\n",
      "Final Simulation Output (x_out = x_out+ - x_out-):\n",
      "0: 0\n",
      "1: 152\n",
      "2: 0\n",
      "3: 0\n",
      "4: 0\n",
      "5: 0\n",
      "6: 0\n",
      "7: 0\n",
      "8: 0\n",
      "9: 0\n"
     ]
    },
    {
     "name": "stderr",
     "output_type": "stream",
     "text": [
      "  2%|█▍                                                                        | 2/100 [01:13<1:05:45, 40.26s/it]"
     ]
    },
    {
     "name": "stdout",
     "output_type": "stream",
     "text": [
      "\n",
      "Simulation finished after 6860 iterations where reactions occurred.\n",
      "Final Simulation Output (x_out = x_out+ - x_out-):\n",
      "0: 0\n",
      "1: 0\n",
      "2: 0\n",
      "3: 0\n",
      "4: 0\n",
      "5: 0\n",
      "6: 151\n",
      "7: 0\n",
      "8: 0\n",
      "9: 0\n"
     ]
    },
    {
     "name": "stderr",
     "output_type": "stream",
     "text": [
      "  3%|██▏                                                                       | 3/100 [01:52<1:04:11, 39.70s/it]"
     ]
    },
    {
     "name": "stdout",
     "output_type": "stream",
     "text": [
      "\n",
      "Simulation finished after 5185 iterations where reactions occurred.\n",
      "Final Simulation Output (x_out = x_out+ - x_out-):\n",
      "0: 158\n",
      "1: 0\n",
      "2: 0\n",
      "3: 0\n",
      "4: 0\n",
      "5: 3\n",
      "6: 0\n",
      "7: 0\n",
      "8: 0\n",
      "9: 0\n"
     ]
    },
    {
     "name": "stderr",
     "output_type": "stream",
     "text": [
      "  4%|███                                                                         | 4/100 [02:24<58:43, 36.70s/it]"
     ]
    },
    {
     "name": "stdout",
     "output_type": "stream",
     "text": [
      "\n",
      "Simulation finished after 4428 iterations where reactions occurred.\n",
      "Final Simulation Output (x_out = x_out+ - x_out-):\n",
      "0: 0\n",
      "1: 0\n",
      "2: 0\n",
      "3: 0\n",
      "4: 262\n",
      "5: 0\n",
      "6: 0\n",
      "7: 0\n",
      "8: 0\n",
      "9: 53\n"
     ]
    },
    {
     "name": "stderr",
     "output_type": "stream",
     "text": [
      "  5%|███▊                                                                        | 5/100 [02:40<45:55, 29.00s/it]"
     ]
    },
    {
     "name": "stdout",
     "output_type": "stream",
     "text": [
      "\n",
      "Simulation finished after 2156 iterations where reactions occurred.\n",
      "Final Simulation Output (x_out = x_out+ - x_out-):\n",
      "0: 0\n",
      "1: 0\n",
      "2: 0\n",
      "3: 0\n",
      "4: 0\n",
      "5: 0\n",
      "6: 163\n",
      "7: 0\n",
      "8: 0\n",
      "9: 0\n"
     ]
    },
    {
     "name": "stderr",
     "output_type": "stream",
     "text": [
      "  6%|████▌                                                                       | 6/100 [03:00<40:41, 25.97s/it]"
     ]
    },
    {
     "name": "stdout",
     "output_type": "stream",
     "text": [
      "\n",
      "Simulation finished after 2795 iterations where reactions occurred.\n",
      "Final Simulation Output (x_out = x_out+ - x_out-):\n",
      "0: 0\n",
      "1: 0\n",
      "2: 0\n",
      "3: 0\n",
      "4: 0\n",
      "5: 189\n",
      "6: 0\n",
      "7: 0\n",
      "8: 0\n",
      "9: 0\n"
     ]
    },
    {
     "name": "stderr",
     "output_type": "stream",
     "text": [
      "  7%|█████▎                                                                      | 7/100 [03:13<33:57, 21.91s/it]"
     ]
    },
    {
     "name": "stdout",
     "output_type": "stream",
     "text": [
      "\n",
      "Simulation finished after 1994 iterations where reactions occurred.\n",
      "Final Simulation Output (x_out = x_out+ - x_out-):\n",
      "0: 0\n",
      "1: 0\n",
      "2: 0\n",
      "3: 0\n",
      "4: 47\n",
      "5: 0\n",
      "6: 128\n",
      "7: 0\n",
      "8: 0\n",
      "9: 170\n"
     ]
    },
    {
     "name": "stderr",
     "output_type": "stream",
     "text": [
      "  8%|██████                                                                      | 8/100 [03:40<36:09, 23.58s/it]"
     ]
    },
    {
     "name": "stdout",
     "output_type": "stream",
     "text": [
      "\n",
      "Simulation finished after 3498 iterations where reactions occurred.\n",
      "Final Simulation Output (x_out = x_out+ - x_out-):\n",
      "0: 0\n",
      "1: 0\n",
      "2: 138\n",
      "3: 0\n",
      "4: 0\n",
      "5: 0\n",
      "6: 0\n",
      "7: 0\n",
      "8: 0\n",
      "9: 0\n"
     ]
    },
    {
     "name": "stderr",
     "output_type": "stream",
     "text": [
      "  9%|██████▊                                                                     | 9/100 [03:57<32:33, 21.47s/it]"
     ]
    },
    {
     "name": "stdout",
     "output_type": "stream",
     "text": [
      "\n",
      "Simulation finished after 2438 iterations where reactions occurred.\n",
      "Final Simulation Output (x_out = x_out+ - x_out-):\n",
      "0: 0\n",
      "1: 0\n",
      "2: 0\n",
      "3: 0\n",
      "4: 254\n",
      "5: 0\n",
      "6: 0\n",
      "7: 0\n",
      "8: 0\n",
      "9: 0\n"
     ]
    },
    {
     "name": "stderr",
     "output_type": "stream",
     "text": [
      " 10%|███████▌                                                                   | 10/100 [05:05<53:32, 35.69s/it]"
     ]
    },
    {
     "name": "stdout",
     "output_type": "stream",
     "text": [
      "\n",
      "Simulation finished after 7913 iterations where reactions occurred.\n",
      "Final Simulation Output (x_out = x_out+ - x_out-):\n",
      "0: 296\n",
      "1: 0\n",
      "2: 0\n",
      "3: 0\n",
      "4: 0\n",
      "5: 0\n",
      "6: 0\n",
      "7: 0\n",
      "8: 0\n",
      "9: 46\n"
     ]
    },
    {
     "name": "stderr",
     "output_type": "stream",
     "text": [
      " 11%|████████▎                                                                  | 11/100 [05:24<45:23, 30.60s/it]"
     ]
    },
    {
     "name": "stdout",
     "output_type": "stream",
     "text": [
      "\n",
      "Simulation finished after 2675 iterations where reactions occurred.\n",
      "Final Simulation Output (x_out = x_out+ - x_out-):\n",
      "0: 0\n",
      "1: 0\n",
      "2: 0\n",
      "3: 0\n",
      "4: 0\n",
      "5: 48\n",
      "6: 68\n",
      "7: 0\n",
      "8: 213\n",
      "9: 0\n"
     ]
    },
    {
     "name": "stderr",
     "output_type": "stream",
     "text": [
      " 12%|█████████                                                                  | 12/100 [05:57<46:05, 31.42s/it]"
     ]
    },
    {
     "name": "stdout",
     "output_type": "stream",
     "text": [
      "\n",
      "Simulation finished after 4134 iterations where reactions occurred.\n",
      "Final Simulation Output (x_out = x_out+ - x_out-):\n",
      "0: 0\n",
      "1: 0\n",
      "2: 169\n",
      "3: 22\n",
      "4: 0\n",
      "5: 0\n",
      "6: 0\n",
      "7: 0\n",
      "8: 0\n",
      "9: 0\n"
     ]
    },
    {
     "name": "stderr",
     "output_type": "stream",
     "text": [
      " 13%|█████████▊                                                                 | 13/100 [06:31<46:45, 32.24s/it]"
     ]
    },
    {
     "name": "stdout",
     "output_type": "stream",
     "text": [
      "\n",
      "Simulation finished after 4293 iterations where reactions occurred.\n",
      "Final Simulation Output (x_out = x_out+ - x_out-):\n",
      "0: 0\n",
      "1: 0\n",
      "2: 0\n",
      "3: 313\n",
      "4: 0\n",
      "5: 0\n",
      "6: 0\n",
      "7: 0\n",
      "8: 0\n",
      "9: 0\n"
     ]
    },
    {
     "name": "stderr",
     "output_type": "stream",
     "text": [
      " 14%|██████████▌                                                                | 14/100 [07:24<54:55, 38.32s/it]"
     ]
    },
    {
     "name": "stdout",
     "output_type": "stream",
     "text": [
      "\n",
      "Simulation finished after 6550 iterations where reactions occurred.\n",
      "Final Simulation Output (x_out = x_out+ - x_out-):\n",
      "0: 0\n",
      "1: 0\n",
      "2: 0\n",
      "3: 0\n",
      "4: 4\n",
      "5: 0\n",
      "6: 0\n",
      "7: 0\n",
      "8: 0\n",
      "9: 257\n"
     ]
    },
    {
     "name": "stderr",
     "output_type": "stream",
     "text": [
      " 15%|███████████▎                                                               | 15/100 [07:33<42:07, 29.74s/it]"
     ]
    },
    {
     "name": "stdout",
     "output_type": "stream",
     "text": [
      "\n",
      "Simulation finished after 1360 iterations where reactions occurred.\n",
      "Final Simulation Output (x_out = x_out+ - x_out-):\n",
      "0: 0\n",
      "1: 25\n",
      "2: 0\n",
      "3: 0\n",
      "4: 0\n",
      "5: 0\n",
      "6: 0\n",
      "7: 0\n",
      "8: 0\n",
      "9: 0\n"
     ]
    },
    {
     "name": "stderr",
     "output_type": "stream",
     "text": [
      " 16%|████████████                                                               | 16/100 [08:01<40:45, 29.11s/it]"
     ]
    },
    {
     "name": "stdout",
     "output_type": "stream",
     "text": [
      "\n",
      "Simulation finished after 3967 iterations where reactions occurred.\n",
      "Final Simulation Output (x_out = x_out+ - x_out-):\n",
      "0: 0\n",
      "1: 0\n",
      "2: 53\n",
      "3: 0\n",
      "4: 0\n",
      "5: 0\n",
      "6: 0\n",
      "7: 121\n",
      "8: 0\n",
      "9: 0\n"
     ]
    },
    {
     "name": "stderr",
     "output_type": "stream",
     "text": [
      " 17%|████████████▊                                                              | 17/100 [08:07<30:43, 22.21s/it]"
     ]
    },
    {
     "name": "stdout",
     "output_type": "stream",
     "text": [
      "\n",
      "Simulation finished after 918 iterations where reactions occurred.\n",
      "Final Simulation Output (x_out = x_out+ - x_out-):\n",
      "0: 0\n",
      "1: 81\n",
      "2: 0\n",
      "3: 0\n",
      "4: 0\n",
      "5: 10\n",
      "6: 0\n",
      "7: 0\n",
      "8: 5\n",
      "9: 0\n"
     ]
    },
    {
     "name": "stderr",
     "output_type": "stream",
     "text": [
      " 18%|█████████████▌                                                             | 18/100 [08:34<32:21, 23.68s/it]"
     ]
    },
    {
     "name": "stdout",
     "output_type": "stream",
     "text": [
      "\n",
      "Simulation finished after 3672 iterations where reactions occurred.\n",
      "Final Simulation Output (x_out = x_out+ - x_out-):\n",
      "0: 0\n",
      "1: 0\n",
      "2: 105\n",
      "3: 54\n",
      "4: 0\n",
      "5: 0\n",
      "6: 0\n",
      "7: 0\n",
      "8: 0\n",
      "9: 0\n"
     ]
    },
    {
     "name": "stderr",
     "output_type": "stream",
     "text": [
      " 19%|██████████████▎                                                            | 19/100 [08:58<31:46, 23.54s/it]"
     ]
    },
    {
     "name": "stdout",
     "output_type": "stream",
     "text": [
      "\n",
      "Simulation finished after 3509 iterations where reactions occurred.\n",
      "Final Simulation Output (x_out = x_out+ - x_out-):\n",
      "0: 0\n",
      "1: 263\n",
      "2: 0\n",
      "3: 0\n",
      "4: 0\n",
      "5: 178\n",
      "6: 0\n",
      "7: 0\n",
      "8: 0\n",
      "9: 0\n"
     ]
    },
    {
     "name": "stderr",
     "output_type": "stream",
     "text": [
      " 20%|███████████████                                                            | 20/100 [09:39<38:23, 28.79s/it]"
     ]
    },
    {
     "name": "stdout",
     "output_type": "stream",
     "text": [
      "\n",
      "Simulation finished after 5527 iterations where reactions occurred.\n",
      "Final Simulation Output (x_out = x_out+ - x_out-):\n",
      "0: 0\n",
      "1: 0\n",
      "2: 3\n",
      "3: 0\n",
      "4: 0\n",
      "5: 0\n",
      "6: 0\n",
      "7: 193\n",
      "8: 0\n",
      "9: 0\n"
     ]
    },
    {
     "name": "stderr",
     "output_type": "stream",
     "text": [
      " 21%|███████████████▊                                                           | 21/100 [09:54<32:36, 24.77s/it]"
     ]
    },
    {
     "name": "stdout",
     "output_type": "stream",
     "text": [
      "\n",
      "Simulation finished after 2381 iterations where reactions occurred.\n",
      "Final Simulation Output (x_out = x_out+ - x_out-):\n",
      "0: 0\n",
      "1: 78\n",
      "2: 0\n",
      "3: 0\n",
      "4: 0\n",
      "5: 0\n",
      "6: 0\n",
      "7: 0\n",
      "8: 0\n",
      "9: 0\n"
     ]
    },
    {
     "name": "stderr",
     "output_type": "stream",
     "text": [
      " 22%|████████████████▌                                                          | 22/100 [10:04<26:33, 20.43s/it]"
     ]
    },
    {
     "name": "stdout",
     "output_type": "stream",
     "text": [
      "\n",
      "Simulation finished after 1591 iterations where reactions occurred.\n",
      "Final Simulation Output (x_out = x_out+ - x_out-):\n",
      "0: 0\n",
      "1: 0\n",
      "2: 0\n",
      "3: 0\n",
      "4: 0\n",
      "5: 85\n",
      "6: 0\n",
      "7: 0\n",
      "8: 0\n",
      "9: 94\n"
     ]
    },
    {
     "name": "stderr",
     "output_type": "stream",
     "text": [
      " 23%|█████████████████▎                                                         | 23/100 [10:48<35:04, 27.33s/it]"
     ]
    },
    {
     "name": "stdout",
     "output_type": "stream",
     "text": [
      "\n",
      "Simulation finished after 5956 iterations where reactions occurred.\n",
      "Final Simulation Output (x_out = x_out+ - x_out-):\n",
      "0: 243\n",
      "1: 0\n",
      "2: 0\n",
      "3: 0\n",
      "4: 0\n",
      "5: 0\n",
      "6: 0\n",
      "7: 0\n",
      "8: 0\n",
      "9: 130\n"
     ]
    },
    {
     "name": "stderr",
     "output_type": "stream",
     "text": [
      " 24%|██████████████████                                                         | 24/100 [11:13<33:50, 26.72s/it]"
     ]
    },
    {
     "name": "stdout",
     "output_type": "stream",
     "text": [
      "\n",
      "Simulation finished after 3568 iterations where reactions occurred.\n",
      "Final Simulation Output (x_out = x_out+ - x_out-):\n",
      "0: 107\n",
      "1: 0\n",
      "2: 0\n",
      "3: 0\n",
      "4: 0\n",
      "5: 0\n",
      "6: 0\n",
      "7: 0\n",
      "8: 0\n",
      "9: 0\n"
     ]
    },
    {
     "name": "stderr",
     "output_type": "stream",
     "text": [
      " 25%|██████████████████▊                                                        | 25/100 [11:41<33:45, 27.00s/it]"
     ]
    },
    {
     "name": "stdout",
     "output_type": "stream",
     "text": [
      "\n",
      "Simulation finished after 3988 iterations where reactions occurred.\n",
      "Final Simulation Output (x_out = x_out+ - x_out-):\n",
      "0: 0\n",
      "1: 0\n",
      "2: 176\n",
      "3: 0\n",
      "4: 0\n",
      "5: 0\n",
      "6: 128\n",
      "7: 0\n",
      "8: 0\n",
      "9: 0\n"
     ]
    },
    {
     "name": "stderr",
     "output_type": "stream",
     "text": [
      " 26%|███████████████████▌                                                       | 26/100 [12:03<31:33, 25.59s/it]"
     ]
    },
    {
     "name": "stdout",
     "output_type": "stream",
     "text": [
      "\n",
      "Simulation finished after 3368 iterations where reactions occurred.\n",
      "Final Simulation Output (x_out = x_out+ - x_out-):\n",
      "0: 0\n",
      "1: 13\n",
      "2: 0\n",
      "3: 0\n",
      "4: 0\n",
      "5: 1\n",
      "6: 0\n",
      "7: 0\n",
      "8: 46\n",
      "9: 0\n"
     ]
    },
    {
     "name": "stderr",
     "output_type": "stream",
     "text": [
      " 27%|████████████████████▎                                                      | 27/100 [12:43<36:21, 29.89s/it]"
     ]
    },
    {
     "name": "stdout",
     "output_type": "stream",
     "text": [
      "\n",
      "Simulation finished after 5320 iterations where reactions occurred.\n",
      "Final Simulation Output (x_out = x_out+ - x_out-):\n",
      "0: 0\n",
      "1: 0\n",
      "2: 0\n",
      "3: 0\n",
      "4: 0\n",
      "5: 231\n",
      "6: 0\n",
      "7: 0\n",
      "8: 0\n",
      "9: 0\n"
     ]
    },
    {
     "name": "stderr",
     "output_type": "stream",
     "text": [
      " 28%|█████████████████████                                                      | 28/100 [13:06<33:34, 27.97s/it]"
     ]
    },
    {
     "name": "stdout",
     "output_type": "stream",
     "text": [
      "\n",
      "Simulation finished after 3241 iterations where reactions occurred.\n",
      "Final Simulation Output (x_out = x_out+ - x_out-):\n",
      "0: 108\n",
      "1: 0\n",
      "2: 0\n",
      "3: 21\n",
      "4: 0\n",
      "5: 31\n",
      "6: 0\n",
      "7: 9\n",
      "8: 165\n",
      "9: 0\n"
     ]
    },
    {
     "name": "stderr",
     "output_type": "stream",
     "text": [
      " 29%|█████████████████████▊                                                     | 29/100 [13:38<34:29, 29.15s/it]"
     ]
    },
    {
     "name": "stdout",
     "output_type": "stream",
     "text": [
      "\n",
      "Simulation finished after 4400 iterations where reactions occurred.\n",
      "Final Simulation Output (x_out = x_out+ - x_out-):\n",
      "0: 0\n",
      "1: 0\n",
      "2: 0\n",
      "3: 255\n",
      "4: 0\n",
      "5: 0\n",
      "6: 0\n",
      "7: 0\n",
      "8: 0\n",
      "9: 0\n"
     ]
    },
    {
     "name": "stderr",
     "output_type": "stream",
     "text": [
      " 30%|██████████████████████▌                                                    | 30/100 [14:01<31:49, 27.28s/it]"
     ]
    },
    {
     "name": "stdout",
     "output_type": "stream",
     "text": [
      "\n",
      "Simulation finished after 3356 iterations where reactions occurred.\n",
      "Final Simulation Output (x_out = x_out+ - x_out-):\n",
      "0: 0\n",
      "1: 0\n",
      "2: 0\n",
      "3: 0\n",
      "4: 159\n",
      "5: 0\n",
      "6: 0\n",
      "7: 0\n",
      "8: 0\n",
      "9: 0\n"
     ]
    },
    {
     "name": "stderr",
     "output_type": "stream",
     "text": [
      " 31%|███████████████████████▎                                                   | 31/100 [14:52<39:38, 34.46s/it]"
     ]
    },
    {
     "name": "stdout",
     "output_type": "stream",
     "text": [
      "\n",
      "Simulation finished after 6654 iterations where reactions occurred.\n",
      "Final Simulation Output (x_out = x_out+ - x_out-):\n",
      "0: 0\n",
      "1: 0\n",
      "2: 237\n",
      "3: 0\n",
      "4: 0\n",
      "5: 0\n",
      "6: 0\n",
      "7: 0\n",
      "8: 0\n",
      "9: 0\n"
     ]
    },
    {
     "name": "stderr",
     "output_type": "stream",
     "text": [
      " 32%|████████████████████████                                                   | 32/100 [15:37<42:25, 37.43s/it]"
     ]
    },
    {
     "name": "stdout",
     "output_type": "stream",
     "text": [
      "\n",
      "Simulation finished after 6588 iterations where reactions occurred.\n",
      "Final Simulation Output (x_out = x_out+ - x_out-):\n",
      "0: 0\n",
      "1: 0\n",
      "2: 33\n",
      "3: 211\n",
      "4: 0\n",
      "5: 0\n",
      "6: 0\n",
      "7: 0\n",
      "8: 0\n",
      "9: 0\n"
     ]
    },
    {
     "name": "stderr",
     "output_type": "stream",
     "text": [
      " 33%|████████████████████████▊                                                  | 33/100 [15:44<31:34, 28.28s/it]"
     ]
    },
    {
     "name": "stdout",
     "output_type": "stream",
     "text": [
      "\n",
      "Simulation finished after 1083 iterations where reactions occurred.\n",
      "Final Simulation Output (x_out = x_out+ - x_out-):\n",
      "0: 0\n",
      "1: 0\n",
      "2: 0\n",
      "3: 0\n",
      "4: 0\n",
      "5: 0\n",
      "6: 0\n",
      "7: 138\n",
      "8: 0\n",
      "9: 0\n"
     ]
    },
    {
     "name": "stderr",
     "output_type": "stream",
     "text": [
      " 34%|█████████████████████████▌                                                 | 34/100 [16:06<29:09, 26.51s/it]"
     ]
    },
    {
     "name": "stdout",
     "output_type": "stream",
     "text": [
      "\n",
      "Simulation finished after 3516 iterations where reactions occurred.\n",
      "Final Simulation Output (x_out = x_out+ - x_out-):\n",
      "0: 0\n",
      "1: 144\n",
      "2: 0\n",
      "3: 0\n",
      "4: 0\n",
      "5: 0\n",
      "6: 0\n",
      "7: 0\n",
      "8: 0\n",
      "9: 0\n"
     ]
    },
    {
     "name": "stderr",
     "output_type": "stream",
     "text": [
      " 35%|██████████████████████████▎                                                | 35/100 [16:26<26:43, 24.67s/it]"
     ]
    },
    {
     "name": "stdout",
     "output_type": "stream",
     "text": [
      "\n",
      "Simulation finished after 3078 iterations where reactions occurred.\n",
      "Final Simulation Output (x_out = x_out+ - x_out-):\n",
      "0: 0\n",
      "1: 0\n",
      "2: 0\n",
      "3: 0\n",
      "4: 0\n",
      "5: 0\n",
      "6: 0\n",
      "7: 131\n",
      "8: 0\n",
      "9: 0\n"
     ]
    },
    {
     "name": "stderr",
     "output_type": "stream",
     "text": [
      " 36%|███████████████████████████                                                | 36/100 [16:39<22:28, 21.06s/it]"
     ]
    },
    {
     "name": "stdout",
     "output_type": "stream",
     "text": [
      "\n",
      "Simulation finished after 1768 iterations where reactions occurred.\n",
      "Final Simulation Output (x_out = x_out+ - x_out-):\n",
      "0: 0\n",
      "1: 168\n",
      "2: 0\n",
      "3: 0\n",
      "4: 0\n",
      "5: 0\n",
      "6: 0\n",
      "7: 0\n",
      "8: 0\n",
      "9: 0\n"
     ]
    },
    {
     "name": "stderr",
     "output_type": "stream",
     "text": [
      " 37%|███████████████████████████▊                                               | 37/100 [17:01<22:20, 21.28s/it]"
     ]
    },
    {
     "name": "stdout",
     "output_type": "stream",
     "text": [
      "\n",
      "Simulation finished after 3221 iterations where reactions occurred.\n",
      "Final Simulation Output (x_out = x_out+ - x_out-):\n",
      "0: 0\n",
      "1: 0\n",
      "2: 0\n",
      "3: 0\n",
      "4: 23\n",
      "5: 3\n",
      "6: 0\n",
      "7: 108\n",
      "8: 117\n",
      "9: 0\n"
     ]
    },
    {
     "name": "stderr",
     "output_type": "stream",
     "text": [
      " 38%|████████████████████████████▌                                              | 38/100 [17:33<25:20, 24.52s/it]"
     ]
    },
    {
     "name": "stdout",
     "output_type": "stream",
     "text": [
      "\n",
      "Simulation finished after 4473 iterations where reactions occurred.\n",
      "Final Simulation Output (x_out = x_out+ - x_out-):\n",
      "0: 0\n",
      "1: 0\n",
      "2: 0\n",
      "3: 0\n",
      "4: 0\n",
      "5: 0\n",
      "6: 0\n",
      "7: 275\n",
      "8: 0\n",
      "9: 0\n"
     ]
    },
    {
     "name": "stderr",
     "output_type": "stream",
     "text": [
      " 39%|█████████████████████████████▎                                             | 39/100 [17:57<24:49, 24.43s/it]"
     ]
    },
    {
     "name": "stdout",
     "output_type": "stream",
     "text": [
      "\n",
      "Simulation finished after 3289 iterations where reactions occurred.\n",
      "Final Simulation Output (x_out = x_out+ - x_out-):\n",
      "0: 226\n",
      "1: 0\n",
      "2: 0\n",
      "3: 0\n",
      "4: 0\n",
      "5: 0\n",
      "6: 0\n",
      "7: 0\n",
      "8: 0\n",
      "9: 0\n"
     ]
    },
    {
     "name": "stderr",
     "output_type": "stream",
     "text": [
      " 40%|██████████████████████████████                                             | 40/100 [18:14<22:07, 22.13s/it]"
     ]
    },
    {
     "name": "stdout",
     "output_type": "stream",
     "text": [
      "\n",
      "Simulation finished after 2507 iterations where reactions occurred.\n",
      "Final Simulation Output (x_out = x_out+ - x_out-):\n",
      "0: 0\n",
      "1: 0\n",
      "2: 13\n",
      "3: 0\n",
      "4: 0\n",
      "5: 0\n",
      "6: 0\n",
      "7: 151\n",
      "8: 0\n",
      "9: 53\n"
     ]
    },
    {
     "name": "stderr",
     "output_type": "stream",
     "text": [
      " 41%|██████████████████████████████▋                                            | 41/100 [18:27<19:10, 19.50s/it]"
     ]
    },
    {
     "name": "stdout",
     "output_type": "stream",
     "text": [
      "\n",
      "Simulation finished after 1966 iterations where reactions occurred.\n",
      "Final Simulation Output (x_out = x_out+ - x_out-):\n",
      "0: 179\n",
      "1: 0\n",
      "2: 0\n",
      "3: 0\n",
      "4: 0\n",
      "5: 0\n",
      "6: 0\n",
      "7: 0\n",
      "8: 0\n",
      "9: 0\n"
     ]
    },
    {
     "name": "stderr",
     "output_type": "stream",
     "text": [
      " 42%|███████████████████████████████▌                                           | 42/100 [18:35<15:27, 16.00s/it]"
     ]
    },
    {
     "name": "stdout",
     "output_type": "stream",
     "text": [
      "\n",
      "Simulation finished after 1158 iterations where reactions occurred.\n",
      "Final Simulation Output (x_out = x_out+ - x_out-):\n",
      "0: 77\n",
      "1: 174\n",
      "2: 0\n",
      "3: 0\n",
      "4: 0\n",
      "5: 80\n",
      "6: 0\n",
      "7: 20\n",
      "8: 0\n",
      "9: 0\n"
     ]
    },
    {
     "name": "stderr",
     "output_type": "stream",
     "text": [
      " 43%|████████████████████████████████▎                                          | 43/100 [19:01<17:59, 18.94s/it]"
     ]
    },
    {
     "name": "stdout",
     "output_type": "stream",
     "text": [
      "\n",
      "Simulation finished after 3977 iterations where reactions occurred.\n",
      "Final Simulation Output (x_out = x_out+ - x_out-):\n",
      "0: 0\n",
      "1: 68\n",
      "2: 0\n",
      "3: 0\n",
      "4: 0\n",
      "5: 0\n",
      "6: 0\n",
      "7: 0\n",
      "8: 0\n",
      "9: 0\n"
     ]
    },
    {
     "name": "stderr",
     "output_type": "stream",
     "text": [
      " 44%|█████████████████████████████████                                          | 44/100 [19:58<28:21, 30.38s/it]"
     ]
    },
    {
     "name": "stdout",
     "output_type": "stream",
     "text": [
      "\n",
      "Simulation finished after 7274 iterations where reactions occurred.\n",
      "Final Simulation Output (x_out = x_out+ - x_out-):\n",
      "0: 208\n",
      "1: 0\n",
      "2: 5\n",
      "3: 0\n",
      "4: 0\n",
      "5: 0\n",
      "6: 0\n",
      "7: 0\n",
      "8: 0\n",
      "9: 0\n"
     ]
    },
    {
     "name": "stderr",
     "output_type": "stream",
     "text": [
      " 45%|█████████████████████████████████▊                                         | 45/100 [20:28<27:37, 30.14s/it]"
     ]
    },
    {
     "name": "stdout",
     "output_type": "stream",
     "text": [
      "\n",
      "Simulation finished after 4160 iterations where reactions occurred.\n",
      "Final Simulation Output (x_out = x_out+ - x_out-):\n",
      "0: 0\n",
      "1: 0\n",
      "2: 0\n",
      "3: 0\n",
      "4: 0\n",
      "5: 0\n",
      "6: 10\n",
      "7: 0\n",
      "8: 263\n",
      "9: 0\n"
     ]
    },
    {
     "name": "stderr",
     "output_type": "stream",
     "text": [
      " 46%|██████████████████████████████████▌                                        | 46/100 [20:46<24:01, 26.69s/it]"
     ]
    },
    {
     "name": "stdout",
     "output_type": "stream",
     "text": [
      "\n",
      "Simulation finished after 2752 iterations where reactions occurred.\n",
      "Final Simulation Output (x_out = x_out+ - x_out-):\n",
      "0: 0\n",
      "1: 0\n",
      "2: 0\n",
      "3: 0\n",
      "4: 0\n",
      "5: 0\n",
      "6: 183\n",
      "7: 28\n",
      "8: 0\n",
      "9: 0\n"
     ]
    },
    {
     "name": "stderr",
     "output_type": "stream",
     "text": [
      " 47%|███████████████████████████████████▎                                       | 47/100 [21:14<23:46, 26.91s/it]"
     ]
    },
    {
     "name": "stdout",
     "output_type": "stream",
     "text": [
      "\n",
      "Simulation finished after 3793 iterations where reactions occurred.\n",
      "Final Simulation Output (x_out = x_out+ - x_out-):\n",
      "0: 0\n",
      "1: 0\n",
      "2: 0\n",
      "3: 0\n",
      "4: 0\n",
      "5: 0\n",
      "6: 132\n",
      "7: 0\n",
      "8: 0\n",
      "9: 0\n"
     ]
    },
    {
     "name": "stderr",
     "output_type": "stream",
     "text": [
      " 48%|████████████████████████████████████                                       | 48/100 [21:17<17:11, 19.84s/it]"
     ]
    },
    {
     "name": "stdout",
     "output_type": "stream",
     "text": [
      "\n",
      "Simulation finished after 467 iterations where reactions occurred.\n",
      "Final Simulation Output (x_out = x_out+ - x_out-):\n",
      "0: 20\n",
      "1: 0\n",
      "2: 0\n",
      "3: 0\n",
      "4: 0\n",
      "5: 83\n",
      "6: 0\n",
      "7: 17\n",
      "8: 3\n",
      "9: 22\n"
     ]
    },
    {
     "name": "stderr",
     "output_type": "stream",
     "text": [
      " 49%|████████████████████████████████████▊                                      | 49/100 [21:25<13:57, 16.42s/it]"
     ]
    },
    {
     "name": "stdout",
     "output_type": "stream",
     "text": [
      "\n",
      "Simulation finished after 1250 iterations where reactions occurred.\n",
      "Final Simulation Output (x_out = x_out+ - x_out-):\n",
      "0: 0\n",
      "1: 114\n",
      "2: 0\n",
      "3: 0\n",
      "4: 0\n",
      "5: 43\n",
      "6: 0\n",
      "7: 0\n",
      "8: 0\n",
      "9: 0\n"
     ]
    },
    {
     "name": "stderr",
     "output_type": "stream",
     "text": [
      " 50%|█████████████████████████████████████▌                                     | 50/100 [21:50<15:42, 18.86s/it]"
     ]
    },
    {
     "name": "stdout",
     "output_type": "stream",
     "text": [
      "\n",
      "Simulation finished after 3663 iterations where reactions occurred.\n",
      "Final Simulation Output (x_out = x_out+ - x_out-):\n",
      "0: 0\n",
      "1: 0\n",
      "2: 0\n",
      "3: 0\n",
      "4: 0\n",
      "5: 219\n",
      "6: 0\n",
      "7: 275\n",
      "8: 0\n",
      "9: 0\n"
     ]
    },
    {
     "name": "stderr",
     "output_type": "stream",
     "text": [
      " 51%|██████████████████████████████████████▎                                    | 51/100 [22:04<14:19, 17.53s/it]"
     ]
    },
    {
     "name": "stdout",
     "output_type": "stream",
     "text": [
      "\n",
      "Simulation finished after 2155 iterations where reactions occurred.\n",
      "Final Simulation Output (x_out = x_out+ - x_out-):\n",
      "0: 48\n",
      "1: 0\n",
      "2: 0\n",
      "3: 0\n",
      "4: 0\n",
      "5: 0\n",
      "6: 0\n",
      "7: 137\n",
      "8: 0\n",
      "9: 0\n"
     ]
    },
    {
     "name": "stderr",
     "output_type": "stream",
     "text": [
      " 52%|███████████████████████████████████████                                    | 52/100 [22:33<16:37, 20.79s/it]"
     ]
    },
    {
     "name": "stdout",
     "output_type": "stream",
     "text": [
      "\n",
      "Simulation finished after 4052 iterations where reactions occurred.\n",
      "Final Simulation Output (x_out = x_out+ - x_out-):\n",
      "0: 0\n",
      "1: 36\n",
      "2: 308\n",
      "3: 0\n",
      "4: 0\n",
      "5: 0\n",
      "6: 0\n",
      "7: 0\n",
      "8: 0\n",
      "9: 0\n"
     ]
    },
    {
     "name": "stderr",
     "output_type": "stream",
     "text": [
      " 53%|███████████████████████████████████████▊                                   | 53/100 [22:52<16:00, 20.43s/it]"
     ]
    },
    {
     "name": "stdout",
     "output_type": "stream",
     "text": [
      "\n",
      "Simulation finished after 2987 iterations where reactions occurred.\n",
      "Final Simulation Output (x_out = x_out+ - x_out-):\n",
      "0: 0\n",
      "1: 0\n",
      "2: 0\n",
      "3: 0\n",
      "4: 227\n",
      "5: 0\n",
      "6: 0\n",
      "7: 0\n",
      "8: 0\n",
      "9: 0\n"
     ]
    },
    {
     "name": "stderr",
     "output_type": "stream",
     "text": [
      " 54%|████████████████████████████████████████▌                                  | 54/100 [23:23<18:01, 23.50s/it]"
     ]
    },
    {
     "name": "stdout",
     "output_type": "stream",
     "text": [
      "\n",
      "Simulation finished after 4236 iterations where reactions occurred.\n",
      "Final Simulation Output (x_out = x_out+ - x_out-):\n",
      "0: 0\n",
      "1: 0\n",
      "2: 0\n",
      "3: 0\n",
      "4: 0\n",
      "5: 0\n",
      "6: 0\n",
      "7: 0\n",
      "8: 223\n",
      "9: 0\n"
     ]
    },
    {
     "name": "stderr",
     "output_type": "stream",
     "text": [
      " 55%|█████████████████████████████████████████▎                                 | 55/100 [23:42<16:29, 22.00s/it]"
     ]
    },
    {
     "name": "stdout",
     "output_type": "stream",
     "text": [
      "\n",
      "Simulation finished after 2861 iterations where reactions occurred.\n",
      "Final Simulation Output (x_out = x_out+ - x_out-):\n",
      "0: 0\n",
      "1: 0\n",
      "2: 0\n",
      "3: 0\n",
      "4: 0\n",
      "5: 0\n",
      "6: 0\n",
      "7: 179\n",
      "8: 0\n",
      "9: 0\n"
     ]
    },
    {
     "name": "stderr",
     "output_type": "stream",
     "text": [
      " 56%|██████████████████████████████████████████                                 | 56/100 [24:26<21:06, 28.79s/it]"
     ]
    },
    {
     "name": "stdout",
     "output_type": "stream",
     "text": [
      "\n",
      "Simulation finished after 6025 iterations where reactions occurred.\n",
      "Final Simulation Output (x_out = x_out+ - x_out-):\n",
      "0: 137\n",
      "1: 0\n",
      "2: 0\n",
      "3: 0\n",
      "4: 0\n",
      "5: 0\n",
      "6: 0\n",
      "7: 0\n",
      "8: 0\n",
      "9: 0\n"
     ]
    },
    {
     "name": "stderr",
     "output_type": "stream",
     "text": [
      " 57%|██████████████████████████████████████████▋                                | 57/100 [25:06<22:58, 32.06s/it]"
     ]
    },
    {
     "name": "stdout",
     "output_type": "stream",
     "text": [
      "\n",
      "Simulation finished after 5464 iterations where reactions occurred.\n",
      "Final Simulation Output (x_out = x_out+ - x_out-):\n",
      "0: 0\n",
      "1: 0\n",
      "2: 0\n",
      "3: 0\n",
      "4: 0\n",
      "5: 0\n",
      "6: 0\n",
      "7: 0\n",
      "8: 0\n",
      "9: 182\n"
     ]
    },
    {
     "name": "stderr",
     "output_type": "stream",
     "text": [
      " 58%|███████████████████████████████████████████▌                               | 58/100 [25:31<20:55, 29.90s/it]"
     ]
    },
    {
     "name": "stdout",
     "output_type": "stream",
     "text": [
      "\n",
      "Simulation finished after 3528 iterations where reactions occurred.\n",
      "Final Simulation Output (x_out = x_out+ - x_out-):\n",
      "0: 163\n",
      "1: 0\n",
      "2: 0\n",
      "3: 0\n",
      "4: 0\n",
      "5: 138\n",
      "6: 0\n",
      "7: 0\n",
      "8: 0\n",
      "9: 0\n"
     ]
    },
    {
     "name": "stderr",
     "output_type": "stream",
     "text": [
      " 59%|████████████████████████████████████████████▎                              | 59/100 [25:54<18:58, 27.77s/it]"
     ]
    },
    {
     "name": "stdout",
     "output_type": "stream",
     "text": [
      "\n",
      "Simulation finished after 3268 iterations where reactions occurred.\n",
      "Final Simulation Output (x_out = x_out+ - x_out-):\n",
      "0: 0\n",
      "1: 0\n",
      "2: 0\n",
      "3: 0\n",
      "4: 0\n",
      "5: 0\n",
      "6: 0\n",
      "7: 260\n",
      "8: 0\n",
      "9: 0\n"
     ]
    },
    {
     "name": "stderr",
     "output_type": "stream",
     "text": [
      " 60%|█████████████████████████████████████████████                              | 60/100 [26:27<19:36, 29.40s/it]"
     ]
    },
    {
     "name": "stdout",
     "output_type": "stream",
     "text": [
      "\n",
      "Simulation finished after 4731 iterations where reactions occurred.\n",
      "Final Simulation Output (x_out = x_out+ - x_out-):\n",
      "0: 0\n",
      "1: 0\n",
      "2: 0\n",
      "3: 0\n",
      "4: 0\n",
      "5: 0\n",
      "6: 138\n",
      "7: 0\n",
      "8: 0\n",
      "9: 0\n"
     ]
    },
    {
     "name": "stderr",
     "output_type": "stream",
     "text": [
      " 61%|█████████████████████████████████████████████▊                             | 61/100 [26:41<16:06, 24.79s/it]"
     ]
    },
    {
     "name": "stdout",
     "output_type": "stream",
     "text": [
      "\n",
      "Simulation finished after 2163 iterations where reactions occurred.\n",
      "Final Simulation Output (x_out = x_out+ - x_out-):\n",
      "0: 0\n",
      "1: 0\n",
      "2: 0\n",
      "3: 0\n",
      "4: 150\n",
      "5: 0\n",
      "6: 0\n",
      "7: 0\n",
      "8: 0\n",
      "9: 0\n"
     ]
    },
    {
     "name": "stderr",
     "output_type": "stream",
     "text": [
      " 62%|██████████████████████████████████████████████▌                            | 62/100 [27:00<14:37, 23.09s/it]"
     ]
    },
    {
     "name": "stdout",
     "output_type": "stream",
     "text": [
      "\n",
      "Simulation finished after 2908 iterations where reactions occurred.\n",
      "Final Simulation Output (x_out = x_out+ - x_out-):\n",
      "0: 0\n",
      "1: 0\n",
      "2: 0\n",
      "3: 0\n",
      "4: 16\n",
      "5: 0\n",
      "6: 0\n",
      "7: 0\n",
      "8: 0\n",
      "9: 163\n"
     ]
    },
    {
     "name": "stderr",
     "output_type": "stream",
     "text": [
      " 63%|███████████████████████████████████████████████▎                           | 63/100 [27:18<13:14, 21.47s/it]"
     ]
    },
    {
     "name": "stdout",
     "output_type": "stream",
     "text": [
      "\n",
      "Simulation finished after 2681 iterations where reactions occurred.\n",
      "Final Simulation Output (x_out = x_out+ - x_out-):\n",
      "0: 0\n",
      "1: 0\n",
      "2: 0\n",
      "3: 203\n",
      "4: 0\n",
      "5: 0\n",
      "6: 0\n",
      "7: 0\n",
      "8: 0\n",
      "9: 0\n"
     ]
    },
    {
     "name": "stderr",
     "output_type": "stream",
     "text": [
      " 64%|████████████████████████████████████████████████                           | 64/100 [27:56<15:54, 26.51s/it]"
     ]
    },
    {
     "name": "stdout",
     "output_type": "stream",
     "text": [
      "\n",
      "Simulation finished after 5223 iterations where reactions occurred.\n",
      "Final Simulation Output (x_out = x_out+ - x_out-):\n",
      "0: 0\n",
      "1: 0\n",
      "2: 162\n",
      "3: 0\n",
      "4: 0\n",
      "5: 1\n",
      "6: 0\n",
      "7: 0\n",
      "8: 0\n",
      "9: 0\n"
     ]
    },
    {
     "name": "stderr",
     "output_type": "stream",
     "text": [
      " 65%|████████████████████████████████████████████████▊                          | 65/100 [28:11<13:31, 23.20s/it]"
     ]
    },
    {
     "name": "stdout",
     "output_type": "stream",
     "text": [
      "\n",
      "Simulation finished after 2320 iterations where reactions occurred.\n",
      "Final Simulation Output (x_out = x_out+ - x_out-):\n",
      "0: 0\n",
      "1: 0\n",
      "2: 0\n",
      "3: 0\n",
      "4: 0\n",
      "5: 0\n",
      "6: 0\n",
      "7: 0\n",
      "8: 0\n",
      "9: 133\n"
     ]
    },
    {
     "name": "stderr",
     "output_type": "stream",
     "text": [
      " 66%|█████████████████████████████████████████████████▌                         | 66/100 [29:01<17:40, 31.18s/it]"
     ]
    },
    {
     "name": "stdout",
     "output_type": "stream",
     "text": [
      "\n",
      "Simulation finished after 6245 iterations where reactions occurred.\n",
      "Final Simulation Output (x_out = x_out+ - x_out-):\n",
      "0: 0\n",
      "1: 0\n",
      "2: 0\n",
      "3: 0\n",
      "4: 0\n",
      "5: 0\n",
      "6: 0\n",
      "7: 0\n",
      "8: 227\n",
      "9: 0\n"
     ]
    },
    {
     "name": "stderr",
     "output_type": "stream",
     "text": [
      " 67%|██████████████████████████████████████████████████▎                        | 67/100 [29:39<18:13, 33.12s/it]"
     ]
    },
    {
     "name": "stdout",
     "output_type": "stream",
     "text": [
      "\n",
      "Simulation finished after 5351 iterations where reactions occurred.\n",
      "Final Simulation Output (x_out = x_out+ - x_out-):\n",
      "0: 0\n",
      "1: 0\n",
      "2: 138\n",
      "3: 17\n",
      "4: 0\n",
      "5: 0\n",
      "6: 0\n",
      "7: 0\n",
      "8: 0\n",
      "9: 0\n"
     ]
    },
    {
     "name": "stderr",
     "output_type": "stream",
     "text": [
      " 68%|███████████████████████████████████████████████████                        | 68/100 [30:09<17:16, 32.39s/it]"
     ]
    },
    {
     "name": "stdout",
     "output_type": "stream",
     "text": [
      "\n",
      "Simulation finished after 4311 iterations where reactions occurred.\n",
      "Final Simulation Output (x_out = x_out+ - x_out-):\n",
      "0: 0\n",
      "1: 0\n",
      "2: 204\n",
      "3: 0\n",
      "4: 0\n",
      "5: 0\n",
      "6: 0\n",
      "7: 0\n",
      "8: 0\n",
      "9: 0\n"
     ]
    },
    {
     "name": "stderr",
     "output_type": "stream",
     "text": [
      " 69%|███████████████████████████████████████████████████▋                       | 69/100 [30:33<15:26, 29.87s/it]"
     ]
    },
    {
     "name": "stdout",
     "output_type": "stream",
     "text": [
      "\n",
      "Simulation finished after 3403 iterations where reactions occurred.\n",
      "Final Simulation Output (x_out = x_out+ - x_out-):\n",
      "0: 0\n",
      "1: 0\n",
      "2: 105\n",
      "3: 261\n",
      "4: 0\n",
      "5: 20\n",
      "6: 0\n",
      "7: 0\n",
      "8: 0\n",
      "9: 0\n"
     ]
    },
    {
     "name": "stderr",
     "output_type": "stream",
     "text": [
      " 70%|████████████████████████████████████████████████████▌                      | 70/100 [30:54<13:33, 27.11s/it]"
     ]
    },
    {
     "name": "stdout",
     "output_type": "stream",
     "text": [
      "\n",
      "Simulation finished after 2934 iterations where reactions occurred.\n",
      "Final Simulation Output (x_out = x_out+ - x_out-):\n",
      "0: 0\n",
      "1: 0\n",
      "2: 0\n",
      "3: 0\n",
      "4: 178\n",
      "5: 0\n",
      "6: 0\n",
      "7: 0\n",
      "8: 0\n",
      "9: 0\n"
     ]
    },
    {
     "name": "stderr",
     "output_type": "stream",
     "text": [
      " 71%|█████████████████████████████████████████████████████▎                     | 71/100 [31:14<12:06, 25.07s/it]"
     ]
    },
    {
     "name": "stdout",
     "output_type": "stream",
     "text": [
      "\n",
      "Simulation finished after 2977 iterations where reactions occurred.\n",
      "Final Simulation Output (x_out = x_out+ - x_out-):\n",
      "0: 0\n",
      "1: 0\n",
      "2: 0\n",
      "3: 0\n",
      "4: 0\n",
      "5: 179\n",
      "6: 0\n",
      "7: 0\n",
      "8: 32\n",
      "9: 0\n"
     ]
    },
    {
     "name": "stderr",
     "output_type": "stream",
     "text": [
      " 72%|██████████████████████████████████████████████████████                     | 72/100 [31:36<11:13, 24.04s/it]"
     ]
    },
    {
     "name": "stdout",
     "output_type": "stream",
     "text": [
      "\n",
      "Simulation finished after 3087 iterations where reactions occurred.\n",
      "Final Simulation Output (x_out = x_out+ - x_out-):\n",
      "0: 0\n",
      "1: 0\n",
      "2: 0\n",
      "3: 0\n",
      "4: 0\n",
      "5: 191\n",
      "6: 0\n",
      "7: 0\n",
      "8: 0\n",
      "9: 0\n"
     ]
    },
    {
     "name": "stderr",
     "output_type": "stream",
     "text": [
      " 73%|██████████████████████████████████████████████████████▊                    | 73/100 [32:01<10:54, 24.25s/it]"
     ]
    },
    {
     "name": "stdout",
     "output_type": "stream",
     "text": [
      "\n",
      "Simulation finished after 3349 iterations where reactions occurred.\n",
      "Final Simulation Output (x_out = x_out+ - x_out-):\n",
      "0: 87\n",
      "1: 12\n",
      "2: 0\n",
      "3: 0\n",
      "4: 0\n",
      "5: 0\n",
      "6: 0\n",
      "7: 0\n",
      "8: 0\n",
      "9: 0\n"
     ]
    },
    {
     "name": "stderr",
     "output_type": "stream",
     "text": [
      " 74%|███████████████████████████████████████████████████████▌                   | 74/100 [32:31<11:17, 26.07s/it]"
     ]
    },
    {
     "name": "stdout",
     "output_type": "stream",
     "text": [
      "\n",
      "Simulation finished after 4311 iterations where reactions occurred.\n",
      "Final Simulation Output (x_out = x_out+ - x_out-):\n",
      "0: 0\n",
      "1: 0\n",
      "2: 204\n",
      "3: 0\n",
      "4: 0\n",
      "5: 0\n",
      "6: 0\n",
      "7: 0\n",
      "8: 0\n",
      "9: 0\n"
     ]
    },
    {
     "name": "stderr",
     "output_type": "stream",
     "text": [
      " 75%|████████████████████████████████████████████████████████▎                  | 75/100 [33:15<13:07, 31.50s/it]"
     ]
    },
    {
     "name": "stdout",
     "output_type": "stream",
     "text": [
      "\n",
      "Simulation finished after 5541 iterations where reactions occurred.\n",
      "Final Simulation Output (x_out = x_out+ - x_out-):\n",
      "0: 196\n",
      "1: 0\n",
      "2: 0\n",
      "3: 0\n",
      "4: 0\n",
      "5: 0\n",
      "6: 0\n",
      "7: 0\n",
      "8: 85\n",
      "9: 0\n"
     ]
    },
    {
     "name": "stderr",
     "output_type": "stream",
     "text": [
      " 76%|█████████████████████████████████████████████████████████                  | 76/100 [33:39<11:40, 29.18s/it]"
     ]
    },
    {
     "name": "stdout",
     "output_type": "stream",
     "text": [
      "\n",
      "Simulation finished after 3234 iterations where reactions occurred.\n",
      "Final Simulation Output (x_out = x_out+ - x_out-):\n",
      "0: 81\n",
      "1: 0\n",
      "2: 0\n",
      "3: 0\n",
      "4: 0\n",
      "5: 17\n",
      "6: 0\n",
      "7: 0\n",
      "8: 0\n",
      "9: 0\n"
     ]
    },
    {
     "name": "stderr",
     "output_type": "stream",
     "text": [
      " 77%|█████████████████████████████████████████████████████████▊                 | 77/100 [33:52<09:18, 24.28s/it]"
     ]
    },
    {
     "name": "stdout",
     "output_type": "stream",
     "text": [
      "\n",
      "Simulation finished after 1826 iterations where reactions occurred.\n",
      "Final Simulation Output (x_out = x_out+ - x_out-):\n",
      "0: 0\n",
      "1: 130\n",
      "2: 0\n",
      "3: 0\n",
      "4: 56\n",
      "5: 0\n",
      "6: 0\n",
      "7: 0\n",
      "8: 0\n",
      "9: 0\n"
     ]
    },
    {
     "name": "stderr",
     "output_type": "stream",
     "text": [
      " 78%|██████████████████████████████████████████████████████████▌                | 78/100 [34:15<08:46, 23.95s/it]"
     ]
    },
    {
     "name": "stdout",
     "output_type": "stream",
     "text": [
      "\n",
      "Simulation finished after 3275 iterations where reactions occurred.\n",
      "Final Simulation Output (x_out = x_out+ - x_out-):\n",
      "0: 0\n",
      "1: 0\n",
      "2: 45\n",
      "3: 0\n",
      "4: 0\n",
      "5: 0\n",
      "6: 0\n",
      "7: 189\n",
      "8: 0\n",
      "9: 0\n"
     ]
    },
    {
     "name": "stderr",
     "output_type": "stream",
     "text": [
      " 79%|███████████████████████████████████████████████████████████▎               | 79/100 [34:26<06:59, 19.98s/it]"
     ]
    },
    {
     "name": "stdout",
     "output_type": "stream",
     "text": [
      "\n",
      "Simulation finished after 1489 iterations where reactions occurred.\n",
      "Final Simulation Output (x_out = x_out+ - x_out-):\n",
      "0: 0\n",
      "1: 154\n",
      "2: 0\n",
      "3: 0\n",
      "4: 0\n",
      "5: 113\n",
      "6: 0\n",
      "7: 60\n",
      "8: 0\n",
      "9: 0\n"
     ]
    },
    {
     "name": "stderr",
     "output_type": "stream",
     "text": [
      " 80%|████████████████████████████████████████████████████████████               | 80/100 [34:47<06:47, 20.36s/it]"
     ]
    },
    {
     "name": "stdout",
     "output_type": "stream",
     "text": [
      "\n",
      "Simulation finished after 3024 iterations where reactions occurred.\n",
      "Final Simulation Output (x_out = x_out+ - x_out-):\n",
      "0: 0\n",
      "1: 0\n",
      "2: 0\n",
      "3: 0\n",
      "4: 115\n",
      "5: 0\n",
      "6: 0\n",
      "7: 0\n",
      "8: 0\n",
      "9: 0\n"
     ]
    },
    {
     "name": "stderr",
     "output_type": "stream",
     "text": [
      " 81%|████████████████████████████████████████████████████████████▊              | 81/100 [35:05<06:12, 19.60s/it]"
     ]
    },
    {
     "name": "stdout",
     "output_type": "stream",
     "text": [
      "\n",
      "Simulation finished after 2784 iterations where reactions occurred.\n",
      "Final Simulation Output (x_out = x_out+ - x_out-):\n",
      "0: 0\n",
      "1: 134\n",
      "2: 0\n",
      "3: 0\n",
      "4: 0\n",
      "5: 23\n",
      "6: 0\n",
      "7: 0\n",
      "8: 0\n",
      "9: 0\n"
     ]
    },
    {
     "name": "stderr",
     "output_type": "stream",
     "text": [
      " 82%|█████████████████████████████████████████████████████████████▍             | 82/100 [35:36<06:54, 23.04s/it]"
     ]
    },
    {
     "name": "stdout",
     "output_type": "stream",
     "text": [
      "\n",
      "Simulation finished after 4256 iterations where reactions occurred.\n",
      "Final Simulation Output (x_out = x_out+ - x_out-):\n",
      "0: 0\n",
      "1: 0\n",
      "2: 0\n",
      "3: 0\n",
      "4: 0\n",
      "5: 0\n",
      "6: 0\n",
      "7: 0\n",
      "8: 0\n",
      "9: 231\n"
     ]
    },
    {
     "name": "stderr",
     "output_type": "stream",
     "text": [
      " 83%|██████████████████████████████████████████████████████████████▎            | 83/100 [36:25<08:42, 30.73s/it]"
     ]
    },
    {
     "name": "stdout",
     "output_type": "stream",
     "text": [
      "\n",
      "Simulation finished after 6168 iterations where reactions occurred.\n",
      "Final Simulation Output (x_out = x_out+ - x_out-):\n",
      "0: 0\n",
      "1: 0\n",
      "2: 98\n",
      "3: 0\n",
      "4: 0\n",
      "5: 0\n",
      "6: 0\n",
      "7: 0\n",
      "8: 324\n",
      "9: 149\n"
     ]
    },
    {
     "name": "stderr",
     "output_type": "stream",
     "text": [
      " 84%|███████████████████████████████████████████████████████████████            | 84/100 [36:42<07:09, 26.83s/it]"
     ]
    },
    {
     "name": "stdout",
     "output_type": "stream",
     "text": [
      "\n",
      "Simulation finished after 2512 iterations where reactions occurred.\n",
      "Final Simulation Output (x_out = x_out+ - x_out-):\n",
      "0: 0\n",
      "1: 0\n",
      "2: 157\n",
      "3: 0\n",
      "4: 0\n",
      "5: 0\n",
      "6: 0\n",
      "7: 0\n",
      "8: 0\n",
      "9: 0\n"
     ]
    },
    {
     "name": "stderr",
     "output_type": "stream",
     "text": [
      " 85%|███████████████████████████████████████████████████████████████▊           | 85/100 [37:14<07:05, 28.38s/it]"
     ]
    },
    {
     "name": "stdout",
     "output_type": "stream",
     "text": [
      "\n",
      "Simulation finished after 4318 iterations where reactions occurred.\n",
      "Final Simulation Output (x_out = x_out+ - x_out-):\n",
      "0: 0\n",
      "1: 0\n",
      "2: 0\n",
      "3: 0\n",
      "4: 0\n",
      "5: 12\n",
      "6: 0\n",
      "7: 0\n",
      "8: 278\n",
      "9: 0\n"
     ]
    },
    {
     "name": "stderr",
     "output_type": "stream",
     "text": [
      " 86%|████████████████████████████████████████████████████████████████▌          | 86/100 [37:34<05:59, 25.65s/it]"
     ]
    },
    {
     "name": "stdout",
     "output_type": "stream",
     "text": [
      "\n",
      "Simulation finished after 2866 iterations where reactions occurred.\n",
      "Final Simulation Output (x_out = x_out+ - x_out-):\n",
      "0: 0\n",
      "1: 0\n",
      "2: 0\n",
      "3: 0\n",
      "4: 0\n",
      "5: 0\n",
      "6: 0\n",
      "7: 165\n",
      "8: 0\n",
      "9: 0\n"
     ]
    },
    {
     "name": "stderr",
     "output_type": "stream",
     "text": [
      " 87%|█████████████████████████████████████████████████████████████████▎         | 87/100 [37:57<05:24, 24.95s/it]"
     ]
    },
    {
     "name": "stdout",
     "output_type": "stream",
     "text": [
      "\n",
      "Simulation finished after 3189 iterations where reactions occurred.\n",
      "Final Simulation Output (x_out = x_out+ - x_out-):\n",
      "0: 185\n",
      "1: 0\n",
      "2: 0\n",
      "3: 0\n",
      "4: 4\n",
      "5: 13\n",
      "6: 67\n",
      "7: 0\n",
      "8: 0\n",
      "9: 0\n"
     ]
    },
    {
     "name": "stderr",
     "output_type": "stream",
     "text": [
      " 88%|██████████████████████████████████████████████████████████████████         | 88/100 [38:17<04:43, 23.62s/it]"
     ]
    },
    {
     "name": "stdout",
     "output_type": "stream",
     "text": [
      "\n",
      "Simulation finished after 2969 iterations where reactions occurred.\n",
      "Final Simulation Output (x_out = x_out+ - x_out-):\n",
      "0: 0\n",
      "1: 0\n",
      "2: 0\n",
      "3: 206\n",
      "4: 0\n",
      "5: 70\n",
      "6: 0\n",
      "7: 0\n",
      "8: 0\n",
      "9: 0\n"
     ]
    },
    {
     "name": "stderr",
     "output_type": "stream",
     "text": [
      " 89%|██████████████████████████████████████████████████████████████████▊        | 89/100 [38:36<04:04, 22.21s/it]"
     ]
    },
    {
     "name": "stdout",
     "output_type": "stream",
     "text": [
      "\n",
      "Simulation finished after 2742 iterations where reactions occurred.\n",
      "Final Simulation Output (x_out = x_out+ - x_out-):\n",
      "0: 38\n",
      "1: 0\n",
      "2: 159\n",
      "3: 0\n",
      "4: 0\n",
      "5: 0\n",
      "6: 0\n",
      "7: 0\n",
      "8: 0\n",
      "9: 0\n"
     ]
    },
    {
     "name": "stderr",
     "output_type": "stream",
     "text": [
      " 90%|███████████████████████████████████████████████████████████████████▌       | 90/100 [38:57<03:36, 21.60s/it]"
     ]
    },
    {
     "name": "stdout",
     "output_type": "stream",
     "text": [
      "\n",
      "Simulation finished after 3014 iterations where reactions occurred.\n",
      "Final Simulation Output (x_out = x_out+ - x_out-):\n",
      "0: 0\n",
      "1: 246\n",
      "2: 0\n",
      "3: 0\n",
      "4: 0\n",
      "5: 0\n",
      "6: 0\n",
      "7: 0\n",
      "8: 0\n",
      "9: 0\n"
     ]
    },
    {
     "name": "stderr",
     "output_type": "stream",
     "text": [
      " 91%|████████████████████████████████████████████████████████████████████▎      | 91/100 [39:13<03:00, 20.04s/it]"
     ]
    },
    {
     "name": "stdout",
     "output_type": "stream",
     "text": [
      "\n",
      "Simulation finished after 2330 iterations where reactions occurred.\n",
      "Final Simulation Output (x_out = x_out+ - x_out-):\n",
      "0: 66\n",
      "1: 0\n",
      "2: 0\n",
      "3: 0\n",
      "4: 0\n",
      "5: 13\n",
      "6: 0\n",
      "7: 0\n",
      "8: 26\n",
      "9: 0\n"
     ]
    },
    {
     "name": "stderr",
     "output_type": "stream",
     "text": [
      " 92%|█████████████████████████████████████████████████████████████████████      | 92/100 [39:29<02:30, 18.81s/it]"
     ]
    },
    {
     "name": "stdout",
     "output_type": "stream",
     "text": [
      "\n",
      "Simulation finished after 2498 iterations where reactions occurred.\n",
      "Final Simulation Output (x_out = x_out+ - x_out-):\n",
      "0: 0\n",
      "1: 75\n",
      "2: 3\n",
      "3: 0\n",
      "4: 0\n",
      "5: 0\n",
      "6: 0\n",
      "7: 0\n",
      "8: 34\n",
      "9: 0\n"
     ]
    },
    {
     "name": "stderr",
     "output_type": "stream",
     "text": [
      " 93%|█████████████████████████████████████████████████████████████████████▊     | 93/100 [39:57<02:31, 21.59s/it]"
     ]
    },
    {
     "name": "stdout",
     "output_type": "stream",
     "text": [
      "\n",
      "Simulation finished after 4142 iterations where reactions occurred.\n",
      "Final Simulation Output (x_out = x_out+ - x_out-):\n",
      "0: 0\n",
      "1: 0\n",
      "2: 0\n",
      "3: 0\n",
      "4: 0\n",
      "5: 0\n",
      "6: 182\n",
      "7: 0\n",
      "8: 0\n",
      "9: 0\n"
     ]
    },
    {
     "name": "stderr",
     "output_type": "stream",
     "text": [
      " 94%|██████████████████████████████████████████████████████████████████████▌    | 94/100 [40:08<01:50, 18.44s/it]"
     ]
    },
    {
     "name": "stdout",
     "output_type": "stream",
     "text": [
      "\n",
      "Simulation finished after 1684 iterations where reactions occurred.\n",
      "Final Simulation Output (x_out = x_out+ - x_out-):\n",
      "0: 0\n",
      "1: 0\n",
      "2: 0\n",
      "3: 126\n",
      "4: 0\n",
      "5: 0\n",
      "6: 0\n",
      "7: 7\n",
      "8: 0\n",
      "9: 0\n"
     ]
    },
    {
     "name": "stderr",
     "output_type": "stream",
     "text": [
      " 95%|███████████████████████████████████████████████████████████████████████▎   | 95/100 [40:17<01:18, 15.64s/it]"
     ]
    },
    {
     "name": "stdout",
     "output_type": "stream",
     "text": [
      "\n",
      "Simulation finished after 1392 iterations where reactions occurred.\n",
      "Final Simulation Output (x_out = x_out+ - x_out-):\n",
      "0: 0\n",
      "1: 0\n",
      "2: 0\n",
      "3: 0\n",
      "4: 0\n",
      "5: 0\n",
      "6: 0\n",
      "7: 221\n",
      "8: 0\n",
      "9: 0\n"
     ]
    },
    {
     "name": "stderr",
     "output_type": "stream",
     "text": [
      " 96%|████████████████████████████████████████████████████████████████████████   | 96/100 [40:47<01:19, 19.78s/it]"
     ]
    },
    {
     "name": "stdout",
     "output_type": "stream",
     "text": [
      "\n",
      "Simulation finished after 4138 iterations where reactions occurred.\n",
      "Final Simulation Output (x_out = x_out+ - x_out-):\n",
      "0: 0\n",
      "1: 0\n",
      "2: 0\n",
      "3: 0\n",
      "4: 0\n",
      "5: 0\n",
      "6: 233\n",
      "7: 0\n",
      "8: 57\n",
      "9: 0\n"
     ]
    },
    {
     "name": "stderr",
     "output_type": "stream",
     "text": [
      " 97%|████████████████████████████████████████████████████████████████████████▊  | 97/100 [41:10<01:02, 20.98s/it]"
     ]
    },
    {
     "name": "stdout",
     "output_type": "stream",
     "text": [
      "\n",
      "Simulation finished after 2993 iterations where reactions occurred.\n",
      "Final Simulation Output (x_out = x_out+ - x_out-):\n",
      "0: 0\n",
      "1: 0\n",
      "2: 0\n",
      "3: 0\n",
      "4: 0\n",
      "5: 0\n",
      "6: 0\n",
      "7: 0\n",
      "8: 0\n",
      "9: 104\n"
     ]
    },
    {
     "name": "stderr",
     "output_type": "stream",
     "text": [
      " 98%|█████████████████████████████████████████████████████████████████████████▌ | 98/100 [41:44<00:49, 24.90s/it]"
     ]
    },
    {
     "name": "stdout",
     "output_type": "stream",
     "text": [
      "\n",
      "Simulation finished after 4386 iterations where reactions occurred.\n",
      "Final Simulation Output (x_out = x_out+ - x_out-):\n",
      "0: 69\n",
      "1: 0\n",
      "2: 30\n",
      "3: 0\n",
      "4: 0\n",
      "5: 0\n",
      "6: 0\n",
      "7: 0\n",
      "8: 0\n",
      "9: 0\n"
     ]
    },
    {
     "name": "stderr",
     "output_type": "stream",
     "text": [
      " 99%|██████████████████████████████████████████████████████████████████████████▎| 99/100 [42:16<00:26, 26.82s/it]"
     ]
    },
    {
     "name": "stdout",
     "output_type": "stream",
     "text": [
      "\n",
      "Simulation finished after 4413 iterations where reactions occurred.\n",
      "Final Simulation Output (x_out = x_out+ - x_out-):\n",
      "0: 0\n",
      "1: 0\n",
      "2: 0\n",
      "3: 0\n",
      "4: 0\n",
      "5: 0\n",
      "6: 0\n",
      "7: 0\n",
      "8: 0\n",
      "9: 142\n"
     ]
    },
    {
     "name": "stderr",
     "output_type": "stream",
     "text": [
      "100%|██████████████████████████████████████████████████████████████████████████| 100/100 [42:56<00:00, 25.76s/it]"
     ]
    },
    {
     "name": "stdout",
     "output_type": "stream",
     "text": [
      "\n",
      "Simulation finished after 5245 iterations where reactions occurred.\n",
      "Final Simulation Output (x_out = x_out+ - x_out-):\n",
      "0: 0\n",
      "1: 0\n",
      "2: 0\n",
      "3: 314\n",
      "4: 0\n",
      "5: 47\n",
      "6: 0\n",
      "7: 0\n",
      "8: 0\n",
      "9: 0\n"
     ]
    },
    {
     "name": "stderr",
     "output_type": "stream",
     "text": [
      "\n"
     ]
    }
   ],
   "source": [
    "from tqdm import tqdm\n",
    "\n",
    "NUM_RUNS = 100\n",
    "\n",
    "indexes = np.random.choice(range(len(x_test_flattened)), NUM_RUNS)\n",
    "answers = [y_test[i] for i in indexes]\n",
    "predictions = []\n",
    "for i in tqdm(indexes):\n",
    "    sample_input = x_test_flattened[i]\n",
    "    history = evaluate_with_history(sample_input)\n",
    "    output = history[-1]\n",
    "    prediction = 0\n",
    "    max_value = 0\n",
    "    for digit, value in output.items():\n",
    "        if value > max_value:\n",
    "            max_value = value\n",
    "            prediction = int(digit)\n",
    "    predictions.append(prediction)\n"
   ]
  },
  {
   "cell_type": "code",
   "execution_count": 92,
   "id": "2ef5e361-1c43-4234-b260-45bf63d07129",
   "metadata": {},
   "outputs": [
    {
     "name": "stdout",
     "output_type": "stream",
     "text": [
      "Accuracy of the CRN: 94.0%\n"
     ]
    }
   ],
   "source": [
    "accuracy = sum([x == y for (x,y) in zip(answers, predictions)]) / NUM_RUNS\n",
    "print(f\"Accuracy of the CRN: {accuracy*100}%\")"
   ]
  },
  {
   "cell_type": "code",
   "execution_count": null,
   "id": "71f2ebff-6efd-4b1a-8800-1c8d568331ec",
   "metadata": {},
   "outputs": [],
   "source": []
  }
 ],
 "metadata": {
  "kernelspec": {
   "display_name": "Python 3 (ipykernel)",
   "language": "python",
   "name": "python3"
  },
  "language_info": {
   "codemirror_mode": {
    "name": "ipython",
    "version": 3
   },
   "file_extension": ".py",
   "mimetype": "text/x-python",
   "name": "python",
   "nbconvert_exporter": "python",
   "pygments_lexer": "ipython3",
   "version": "3.11.5"
  }
 },
 "nbformat": 4,
 "nbformat_minor": 5
}
